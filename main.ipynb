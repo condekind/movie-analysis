{
 "cells": [
  {
   "cell_type": "code",
   "execution_count": null,
   "metadata": {},
   "outputs": [],
   "source": [
    "import ast\n",
    "import numpy as np\n",
    "from scipy.stats import iqr\n",
    "from pprint import pprint\n",
    "from datetime import datetime\n",
    "import re\n",
    "import string\n",
    "\n",
    "import pandas as pd\n",
    "pd.set_option('display.max_columns', None)\n",
    "pd.set_option('display.float_format', lambda x: '{:⎯>13.3f}'.format(x))\n",
    "\n",
    "# plotting\n",
    "import matplotlib.pyplot as plt\n",
    "from matplotlib.ticker import StrMethodFormatter\n",
    "\n",
    "# fluff\n",
    "from jupyterthemes import jtplot\n",
    "jtplot.style()\n",
    "from kindlib.fluff import *\n",
    "\n",
    "from sklearn.model_selection import train_test_split\n",
    "from sklearn.linear_model import LogisticRegression\n",
    "from sklearn import metrics"
   ]
  },
  {
   "cell_type": "code",
   "execution_count": null,
   "metadata": {},
   "outputs": [],
   "source": [
    "mdf = pd.read_pickle('data/movies_metadata.pkl')\n",
    "\n",
    "pprint(list(mdf.columns))\n",
    "mdf.shape"
   ]
  },
  {
   "cell_type": "markdown",
   "metadata": {},
   "source": [
    "### <center>Caracterização</center>"
   ]
  },
  {
   "cell_type": "code",
   "execution_count": null,
   "metadata": {
    "scrolled": true
   },
   "outputs": [],
   "source": [
    "colstats = Colstats(mdf)\n",
    "\n",
    "print('Total number of entries:', len(mdf))\n",
    "colstat = []\n",
    "for idx, row in colstats.iterrows():\n",
    "    df = pd.DataFrame(data=row).drop('col').rename(columns={idx:colstats['col'].iloc[idx]}).T\n",
    "    df.index.name = 'Feature'\n",
    "    if int(df['nunique']) <= 10:\n",
    "        df2 = pd.DataFrame(mdf[row['col']].unique(), columns=['values'])\n",
    "        p(df, df2)\n",
    "    else:\n",
    "        display(df)\n",
    "    print('')"
   ]
  },
  {
   "cell_type": "code",
   "execution_count": null,
   "metadata": {},
   "outputs": [],
   "source": [
    "mdf.columns"
   ]
  },
  {
   "cell_type": "code",
   "execution_count": null,
   "metadata": {},
   "outputs": [],
   "source": [
    "typecol = {\n",
    "    'json' : [\n",
    "        'belongs_to_collection',\n",
    "        'genres',\n",
    "        'production_companies',\n",
    "        'production_countries',\n",
    "        'spoken_languages',\n",
    "    ],\n",
    "    'string' : [\n",
    "        'imdb_id',\n",
    "        'original_language',\n",
    "        'original_title',\n",
    "        'overview',\n",
    "        'status',\n",
    "        'tagline',\n",
    "        'title',\n",
    "    ],\n",
    "    'url' : [\n",
    "        'homepage',\n",
    "    ],\n",
    "    'datetime' : [\n",
    "        'release_date',\n",
    "    ],\n",
    "    'int' : [\n",
    "        'budget',\n",
    "        'id',\n",
    "        'revenue',\n",
    "        'runtime',\n",
    "        'vote_count'\n",
    "    ],\n",
    "    'float' : [\n",
    "        'popularity',\n",
    "        'vote_average',\n",
    "    ],\n",
    "    'bool' : [\n",
    "        'adult',\n",
    "        'video',\n",
    "    ],\n",
    "    'other' : [\n",
    "        'poster_path',\n",
    "    ]\n",
    "}\n",
    "unused_cols = [\n",
    "    'homepage',\n",
    "    'original_language',\n",
    "    'overview',\n",
    "    'poster_path',\n",
    "    'tagline',\n",
    "    'video',\n",
    "]\n",
    "coltype = {c:k for k, v in typecol.items() for c in v if c not in unused_cols}\n",
    "\n",
    "mdf = mdf.drop(columns=[c for c in mdf.columns if c not in coltype])\n",
    "for c in typecol['datetime']:\n",
    "    timedf = pd.to_datetime(clean(mdf[c].dropna(), wsep='-', asep=' '), errors='coerce', infer_datetime_format=True).dropna().astype(np.datetime64)\n",
    "    mdf = mdf.iloc[timedf.index]\n",
    "    mdf[c] = timedf\n",
    "del(timedf)\n",
    "for c in typecol['int']:\n",
    "    mdf[c] = pd.to_numeric(mdf[c], errors='coerce')\n",
    "    mdf = mdf.dropna(subset=[c])\n",
    "    mdf[c] = mdf[c].astype('int')\n",
    "for c in typecol['float']:\n",
    "    mdf[c] = pd.to_numeric(mdf[c], errors='coerce')\n",
    "    mdf = mdf.dropna(subset=[c])\n",
    "    mdf[c] = mdf[c].astype('float')\n",
    "for c in typecol['bool']:\n",
    "    mdf[c] =  mdf[mdf['adult'] == 'False'].append(\n",
    "        other=mdf[mdf['adult'] == 'True'], verify_integrity=True)['adult'] == 'True'"
   ]
  },
  {
   "cell_type": "code",
   "execution_count": null,
   "metadata": {},
   "outputs": [],
   "source": [
    "mdf.dtypes"
   ]
  },
  {
   "cell_type": "markdown",
   "metadata": {},
   "source": [
    "Unreliable columns: <br><br>\n",
    "\n",
    "| Dropped columns       | Reason                       | Alternative                              |\n",
    "| --------------------- |:----------------------------:| ----------------------------------------:|\n",
    "| belongs_to_collection | too many nans                | &nbsp;&nbsp;convert to bool              |\n",
    "| homepage              | too many nans                | &nbsp;&nbsp;convert to bool              |\n",
    "| runtime               | estimation pollutes analysis | &nbsp;&nbsp;use mean or median of others |\n",
    "\n",
    "<br>Let's drop them:"
   ]
  },
  {
   "cell_type": "code",
   "execution_count": null,
   "metadata": {},
   "outputs": [],
   "source": [
    "mdf = mdf.drop(columns=['belongs_to_collection', 'runtime'])  # homepage was already dropped"
   ]
  },
  {
   "cell_type": "code",
   "execution_count": null,
   "metadata": {},
   "outputs": [],
   "source": [
    "# removing invalid dupes\n",
    "print('Shape before removing dupes:', mdf.shape)\n",
    "mdf = mdf.drop(index=mdf[mdf['id'].duplicated() | mdf['imdb_id'].duplicated()].index)\n",
    "print('Shape after removing dupes:', mdf.shape)\n",
    "\n",
    "# removing entries with zero budget or zero revenue\n",
    "moneydf = mdf[mdf['budget'].apply(lambda x: bool(x))]\n",
    "print('Number of movies with budget info:', moneydf.shape[0])\n",
    "\n",
    "moneydf = mdf[mdf['revenue'].apply(lambda x: bool(x))]\n",
    "print('Number of movies with revenue info:', moneydf.shape[0])\n",
    "\n",
    "moneydf = mdf[['budget','revenue']]\n",
    "moneydf = moneydf[moneydf['budget'].apply(lambda x: bool(x)) & moneydf['revenue'].apply(lambda x: bool(x))]\n",
    "print('Number of movies with budget and revenue info:', moneydf.shape[0])\n",
    "\n",
    "moneydf = mdf.loc[moneydf.index]"
   ]
  },
  {
   "cell_type": "code",
   "execution_count": null,
   "metadata": {},
   "outputs": [],
   "source": [
    "\n",
    "colstats = Colstats(moneydf)\n",
    "for idx, row in colstats.iterrows():\n",
    "    df = pd.DataFrame(data=row).drop('col').rename(columns={idx:colstats['col'].iloc[idx]}).T\n",
    "    df.index.name = 'Feature'\n",
    "    if int(df['nunique']) <= 10:\n",
    "        df2 = pd.DataFrame(moneydf[row['col']].unique(), columns=['values'])\n",
    "        p(df, df2)\n",
    "    else:\n",
    "        display(df)\n",
    "    print('')\n",
    "moneydf[['budget', 'popularity', 'revenue', 'vote_average']].describe().round(3)"
   ]
  },
  {
   "cell_type": "markdown",
   "metadata": {},
   "source": [
    "<br><br>Now that our base is looking good for the basic types, let's try some plotting:"
   ]
  },
  {
   "cell_type": "code",
   "execution_count": null,
   "metadata": {
    "scrolled": false
   },
   "outputs": [],
   "source": [
    "bw_methods = ['scott', 'silverman'] #, 0.1, 0.25, 0.5, 0.75, 1.0]\n",
    "for c in moneydf[['budget', 'popularity', 'revenue', 'vote_average']].columns:\n",
    "    fig, ax = plt.subplots()\n",
    "    line = {}\n",
    "    for idx, bw in enumerate(bw_methods):\n",
    "        line[idx] = moneydf[c].plot.kde(bw_method=bw)\n",
    "        line[idx].set_xlim(\n",
    "            xmin=moneydf[c].quantile(0.25)-iqr(moneydf[c].values)*1.5,\n",
    "            xmax=moneydf[c].quantile(0.75)+iqr(moneydf[c].values)*1.5)\n",
    "        max_exp = int(np.floor(np.log10(moneydf[c].quantile(0.75)+iqr(moneydf[c].values)*1.5)))\n",
    "        line[idx].ticklabel_format(axis='x', style='sci', scilimits=(max_exp,max_exp))\n",
    "        line[idx].set_title(c, fontdict={'y': 0})\n",
    "        line[idx].set_label(bw)\n",
    "    plt.legend(bw_methods)\n",
    "    plt.show()\n",
    "    plt.close()\n",
    "pass"
   ]
  },
  {
   "cell_type": "markdown",
   "metadata": {},
   "source": [
    "<hr>\n",
    "\n",
    "Genres"
   ]
  },
  {
   "cell_type": "code",
   "execution_count": null,
   "metadata": {},
   "outputs": [],
   "source": [
    "# possibly interesting data\n",
    "genre_data = {}\n",
    "\n",
    "print('Total entries so far:', len(moneydf))\n",
    "\n",
    "# ignoring possibility of genre id collision\n",
    "moneydf.apply(axis=1,\n",
    "        func=lambda x:\n",
    "        [\n",
    "            genre_data.update({k: v})\n",
    "            for (_, k), (_, v) in\n",
    "            [\n",
    "                g.items()\n",
    "                    if len(g) > 0\n",
    "                    else {}\n",
    "                for g in ast.literal_eval(x['genres'])\n",
    "            ]\n",
    "        ]\n",
    ")\n",
    "\n",
    "print('')\n",
    "print('Number of distinct genres:', len(genre_data))\n",
    "pprint(genre_data)"
   ]
  },
  {
   "cell_type": "markdown",
   "metadata": {},
   "source": [
    "<hr>"
   ]
  },
  {
   "cell_type": "markdown",
   "metadata": {},
   "source": [
    "### <center>Testes de Hipótese</center>"
   ]
  },
  {
   "cell_type": "markdown",
   "metadata": {},
   "source": [
    "#### I. H<sub>0</sub>: O revenue de filmes do mesmo gênero não é influenciado pela data de lançamento."
   ]
  },
  {
   "cell_type": "code",
   "execution_count": null,
   "metadata": {},
   "outputs": [],
   "source": [
    "# relevant info for H0\n",
    "gdf = moneydf[['budget', 'revenue', 'genres', 'release_date']]\n",
    "\n",
    "# creating columns to indicate genre\n",
    "for _, g in genre_data.items():\n",
    "    gdf = gdf.assign(**{str(g) : lambda _: [0 for _ in range(gdf.shape[0])]})\n",
    "\n",
    "# setting correct genre values to 1 on each movie\n",
    "genres = list(genre_data.values())\n",
    "def set_genres(row:pd.Series, ginfo):\n",
    "    genre_series = pd.Series(np.zeros(len(row)), index=row.index, dtype=int)\n",
    "    for genre_info in ast.literal_eval(ginfo):\n",
    "        genre_series[genre_info['name']] = 1\n",
    "    return genre_series\n",
    "\n",
    "# updating genre df\n",
    "gdf[genres] = gdf[['genres']+genres].apply(axis=1, func=lambda row: set_genres(row, row['genres'])).drop(columns=['genres'])\n",
    "gdf = gdf.drop(columns=['genres'])\n",
    "gdf['year'] = gdf['release_date'].apply(func=lambda x: x.year)\n",
    "gdf.head(5)"
   ]
  },
  {
   "cell_type": "code",
   "execution_count": null,
   "metadata": {},
   "outputs": [],
   "source": [
    "# value correction -> real value = nominal value / gdp deflator \n",
    "price_deflator_df = pd.read_csv('data/GDPCTPI.csv').sort_values(by=['DATE'])\n",
    "price_deflator_df['DATE'] = price_deflator_df['DATE'].astype(np.datetime64)\n",
    "price_deflator_df = price_deflator_df.set_index(keys=['DATE'], verify_integrity=True)\n",
    "price_deflator_df['y'] = price_deflator_df.apply(axis=1, func=lambda x: x.name.year)\n",
    "price_deflator_df = pd.DataFrame(price_deflator_df.groupby(by=['y'])['GDPCTPI'].mean())\n",
    "assert(len(price_deflator_df) == max(price_deflator_df.index) - min(price_deflator_df.index) + 1)\n",
    "\n",
    "gdf = gdf.drop(gdf[gdf['year'] < min(price_deflator_df.index)].index)\n",
    "gdf['gdpctpi'] = gdf['year'].apply(lambda x: price_deflator_df.loc[x])\n",
    "gdf['budget_adjusted'] = gdf['budget'] / gdf['gdpctpi']\n",
    "gdf['revenue_adjusted'] = gdf['revenue'] / gdf['gdpctpi']\n",
    "gdf['profit_2012'] = (gdf['revenue_adjusted'] - gdf['budget_adjusted']).round(2)"
   ]
  },
  {
   "cell_type": "code",
   "execution_count": null,
   "metadata": {},
   "outputs": [],
   "source": [
    "gdf = gdf[['budget', 'budget_adjusted', 'revenue', 'revenue_adjusted', 'year',\n",
    "        'profit_2012', 'gdpctpi', 'release_date', 'Animation', 'Comedy', 'Family',\n",
    "        'Adventure', 'Fantasy', 'Drama', 'Romance', 'Action', 'Crime',\n",
    "        'Thriller', 'History', 'Science Fiction', 'Mystery', 'Horror', 'War',\n",
    "        'Foreign', 'Documentary', 'Western', 'Music', 'TV Movie']]"
   ]
  },
  {
   "cell_type": "code",
   "execution_count": null,
   "metadata": {},
   "outputs": [],
   "source": [
    "gdf"
   ]
  },
  {
   "cell_type": "markdown",
   "metadata": {},
   "source": [
    "### Let's see the big winners and big losers!"
   ]
  },
  {
   "cell_type": "code",
   "execution_count": null,
   "metadata": {},
   "outputs": [],
   "source": [
    "p(\n",
    "    mdf.loc[gdf.sort_values(by=['profit_2012'])[-5:].index][['title']],\n",
    "   gdf.sort_values(by=['profit_2012'])[-5:][['profit_2012']]\n",
    ")\n",
    "p(\n",
    "    mdf.loc[gdf.sort_values(by=['profit_2012'], ascending=False)[-5:].index][['title']],\n",
    "   gdf.sort_values(by=['profit_2012'], ascending=False)[-5:][['profit_2012']]\n",
    ")\n",
    "pass"
   ]
  },
  {
   "cell_type": "code",
   "execution_count": null,
   "metadata": {},
   "outputs": [],
   "source": [
    "gdf.columns"
   ]
  },
  {
   "cell_type": "code",
   "execution_count": null,
   "metadata": {},
   "outputs": [],
   "source": [
    "bw_methods = ['scott', 'silverman'] #, 0.1, 0.25, 0.5, 0.75, 1.0]\n",
    "for c in gdf[['budget_adjusted', 'revenue', 'profit_2012', 'year']].columns:\n",
    "    fig, ax = plt.subplots()\n",
    "    line = {}\n",
    "    for idx, bw in enumerate(bw_methods):\n",
    "        line[idx] = gdf[c].plot.kde(bw_method=bw)\n",
    "        line[idx].set_xlim(\n",
    "            xmin=gdf[c].quantile(0.25)-iqr(gdf[c].values)*1.5,\n",
    "            xmax=gdf[c].quantile(0.75)+iqr(gdf[c].values)*1.5)\n",
    "        max_exp = int(np.floor(np.log10(gdf[c].quantile(0.75)+iqr(gdf[c].values)*1.5)))\n",
    "        if c != 'year':\n",
    "            line[idx].ticklabel_format(axis='x', style='sci', scilimits=(max_exp,max_exp))\n",
    "        else:\n",
    "            line[idx].ticklabel_format(axis='x', style='plain')\n",
    "        line[idx].set_title(c, fontdict={'y': 0})\n",
    "        line[idx].set_label(bw)\n",
    "    plt.legend(bw_methods)\n",
    "    plt.show()\n",
    "    plt.close()\n",
    "pass"
   ]
  },
  {
   "cell_type": "markdown",
   "metadata": {},
   "source": [
    "#### II. H<sub>0</sub>: A média de idade dos 10 atores principais está correlacionada com os ratings."
   ]
  },
  {
   "cell_type": "markdown",
   "metadata": {},
   "source": [
    "<hr>"
   ]
  },
  {
   "cell_type": "markdown",
   "metadata": {},
   "source": [
    "### <center>Regressão</center>"
   ]
  },
  {
   "cell_type": "code",
   "execution_count": null,
   "metadata": {},
   "outputs": [],
   "source": [
    "mdf['popularity'].describe()"
   ]
  },
  {
   "cell_type": "markdown",
   "metadata": {},
   "source": [
    "Vamos considerar como popular os filmes com um valor de 'popularity' maior que 2 (um pouco menor que a média)"
   ]
  },
  {
   "cell_type": "code",
   "execution_count": null,
   "metadata": {},
   "outputs": [],
   "source": [
    "new_mdf = mdf\n",
    "new_mdf['popularity'] = (new_mdf['popularity'] > 2).astype(int)"
   ]
  },
  {
   "cell_type": "code",
   "execution_count": null,
   "metadata": {},
   "outputs": [],
   "source": [
    "new_mdf['popularity'].value_counts()"
   ]
  },
  {
   "cell_type": "code",
   "execution_count": null,
   "metadata": {},
   "outputs": [],
   "source": [
    "X = new_mdf[['vote_average', 'vote_count']]\n",
    "y = new_mdf['popularity']\n",
    "\n",
    "X_train, X_test, y_train, y_test = train_test_split(X, y, test_size=0.25, random_state=0)\n",
    "\n",
    "logistic_regression = LogisticRegression()\n",
    "logistic_regression.fit(X_train, y_train)\n",
    "y_pred = logistic_regression.predict(X_test)\n",
    "\n",
    "cm = metrics.confusion_matrix(y_test, y_pred)\n",
    "print(cm)\n",
    "\n",
    "accuracy = logistic_regression.score(X_test, y_test)\n",
    "print(accuracy)"
   ]
  },
  {
   "cell_type": "markdown",
   "metadata": {},
   "source": [
    "A acurácia foi de aproximadamente 90%"
   ]
  },
  {
   "cell_type": "code",
   "execution_count": null,
   "metadata": {},
   "outputs": [],
   "source": [
    "print(X_test)"
   ]
  },
  {
   "cell_type": "code",
   "execution_count": null,
   "metadata": {},
   "outputs": [],
   "source": [
    "# testando com outros valores\n",
    "new_votes = {'vote_average': [6.7, 5.8, 3.6, 7.7, 9.8, 8.9],\n",
    "            'vote_count': [10, 30, 49, 88, 19, 70]}\n",
    "\n",
    "df = pd.DataFrame(new_votes, columns=['vote_average', 'vote_count'])\n",
    "y_pred = logistic_regression.predict(df)\n",
    "print(df)\n",
    "print(y_pred)"
   ]
  },
  {
   "cell_type": "code",
   "execution_count": null,
   "metadata": {},
   "outputs": [],
   "source": [
    "# agora considerando o revenue do filme\n",
    "new_mdf = moneydf\n",
    "new_mdf['popularity'] = (new_mdf['popularity'] > 2).astype(int)\n",
    "X = new_mdf[['vote_average', 'vote_count', 'revenue']]\n",
    "y = new_mdf['popularity']\n",
    "\n",
    "X_train, X_test, y_train, y_test = train_test_split(X, y, test_size=0.25, random_state=0)\n",
    "\n",
    "logistic_regression = LogisticRegression()\n",
    "logistic_regression.fit(X_train, y_train)\n",
    "y_pred = logistic_regression.predict(X_test)\n",
    "\n",
    "cm = metrics.confusion_matrix(y_test, y_pred)\n",
    "print(cm)\n",
    "\n",
    "accuracy = logistic_regression.score(X_test, y_test)\n",
    "print(accuracy)"
   ]
  },
  {
   "cell_type": "markdown",
   "metadata": {},
   "source": [
    "A acurácia foi para aproximadamente 91%"
   ]
  },
  {
   "cell_type": "markdown",
   "metadata": {},
   "source": [
    "#### Least Squares"
   ]
  },
  {
   "cell_type": "markdown",
   "metadata": {},
   "source": [
    "### <center>Classificação</center>"
   ]
  },
  {
   "cell_type": "markdown",
   "metadata": {},
   "source": [
    "#### Hidden Markov Model"
   ]
  },
  {
   "cell_type": "markdown",
   "metadata": {},
   "source": [
    "### <center>Agrupamento</center>"
   ]
  },
  {
   "cell_type": "markdown",
   "metadata": {},
   "source": [
    "#### DBScan"
   ]
  },
  {
   "cell_type": "markdown",
   "metadata": {},
   "source": [
    "### <center>Relatório Final:</center>\n",
    "<br>\n",
    "\n",
    "#### Sua análise dos dados deve apresentar:\n",
    "- Uma caracterização (análise exploratória) inicial dos dados **(2pts)**\n",
    "- Pelo menos, dois testes de hipótese/intervalos de confiança **(2pts)**\n",
    "    - Os ICs podem ser apresentados nos resultados de regressão e classificação abaixo.\n",
    "    - Os testes de hipótese também podem ser utilizados abaixo para comparar modelos.\n",
    "- Pelo menos uma regressão **(3pts)**\n",
    "- Pelo menos um algoritmo de aprendizado/classificação **(3pts)**\n",
    "\n",
    "#### No seu relatório, você deve apresentar pelo menos os seguintes pontos:\n",
    "- Introdução com Motivação e Pergunta de Pesquisa\n",
    "- Metodologia\n",
    "- Descreva sua base\n",
    "- Quais métodos e modelos foram utilizados. Justifique os mesmos.\n",
    "- Resultados. Sugiro separar em\n",
    "    - Caracterização (análise exploratória)\n",
    "    - Testes de hipótese podem vir aqui.\n",
    "    - Previsão (uma ou duas sub-seções dependendo dos modelos utilizados)\n",
    "    - Conclusões\n",
    "\n",
    "Responda suas perguntas:\n",
    "- Qual a melhor época do ano para anunciar e lançar um filme?\n",
    "- Como a popularidade dos gêneros dos filmes evoluiu ao longo dos anos?\n",
    "- Qual o peso de um ator/atriz popular no retorno financeiro de um filme com avaliação \"ruim\"?\n",
    "\n",
    "### Vídeo\n",
    "Vídeo no Youtube 5 minutos (pode ser um vídeo só de slides) **(5pts)**"
   ]
  }
 ],
 "metadata": {
  "kernelspec": {
   "display_name": "Python 3",
   "language": "python",
   "name": "python3"
  },
  "language_info": {
   "codemirror_mode": {
    "name": "ipython",
    "version": 3
   },
   "file_extension": ".py",
   "mimetype": "text/x-python",
   "name": "python",
   "nbconvert_exporter": "python",
   "pygments_lexer": "ipython3",
   "version": "3.8.0"
  }
 },
 "nbformat": 4,
 "nbformat_minor": 4
}
