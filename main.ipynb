{
 "cells": [
  {
   "cell_type": "code",
   "execution_count": null,
   "metadata": {},
   "outputs": [],
   "source": [
    "import ast\n",
    "import numpy as np\n",
    "from pprint import pprint\n",
    "\n",
    "import pandas as pd\n",
    "pd.set_option('display.max_columns', None)\n",
    "\n",
    "from kindlib.fluff import *"
   ]
  },
  {
   "cell_type": "code",
   "execution_count": null,
   "metadata": {},
   "outputs": [],
   "source": [
    "### Caracterizaçãocdf = pd.read_pickle('data/credits.pkl')\n",
    "kdf = pd.read_pickle('data/keywords.pkl')\n",
    "mdf = pd.read_pickle('data/movies_metadata.pkl')\n",
    "rdf = pd.read_pickle('data/ratings.pkl')"
   ]
  },
  {
   "cell_type": "markdown",
   "metadata": {},
   "source": [
    "### <center>Caracterização</center>"
   ]
  },
  {
   "cell_type": "code",
   "execution_count": null,
   "metadata": {},
   "outputs": [],
   "source": [
    "mdf.head(3)"
   ]
  },
  {
   "cell_type": "code",
   "execution_count": null,
   "metadata": {},
   "outputs": [],
   "source": [
    "len(mdf[mdf['id'].duplicated() == True])"
   ]
  },
  {
   "cell_type": "code",
   "execution_count": null,
   "metadata": {},
   "outputs": [],
   "source": [
    "def Colstats(df: pd.DataFrame):\n",
    "    return pd.DataFrame(data=[(\n",
    "        c,\n",
    "        mdf[c].dtype,\n",
    "        mdf[c].nunique(),\n",
    "        mdf[c].isna().sum(),\n",
    "        len(mdf[mdf[c].duplicated() == True]))\n",
    "        for c in mdf.columns], columns=[\n",
    "        'col', 'type', 'nunique', 'nan', 'duplicated_values'])"
   ]
  },
  {
   "cell_type": "code",
   "execution_count": null,
   "metadata": {
    "scrolled": true
   },
   "outputs": [],
   "source": [
    "colstats = pd.DataFrame(data=[(\n",
    "    c,\n",
    "    mdf[c].dtype,\n",
    "    mdf[c].nunique(),\n",
    "    mdf[c].isna().sum(),\n",
    "    len(mdf[mdf[c].duplicated() == True]))\n",
    "    for c in mdf.columns], columns=[\n",
    "    'col', 'type', 'nunique', 'nan', 'duplicated_values'])\n",
    "\n",
    "print('Total number of entries:', len(mdf))\n",
    "colstat = []\n",
    "for idx, row in colstats.iterrows():\n",
    "    df = pd.DataFrame(data=row).drop('col').rename(columns={idx:colstats['col'].iloc[idx]}).T\n",
    "    df.index.name = 'Feature'\n",
    "    if int(df['nunique']) <= 10:\n",
    "        df2 = pd.DataFrame(mdf[row['col']].unique(), columns=['values'])\n",
    "        p(df, df2)\n",
    "    else:\n",
    "        display(df)\n",
    "    print('')"
   ]
  },
  {
   "cell_type": "code",
   "execution_count": null,
   "metadata": {},
   "outputs": [],
   "source": [
    "\n",
    "mdf = mdf.drop(columns=['belongs_to_collection', 'homepage', 'runtime'])"
   ]
  },
  {
   "cell_type": "markdown",
   "metadata": {},
   "source": [
    "| Dropped columns       | Reason                       | Alternative                              |\n",
    "| --------------------- |:----------------------------:| ----------------------------------------:|\n",
    "| belongs_to_collection | too many nans                | &nbsp;&nbsp;convert to bool              |\n",
    "| homepage              | too many nans                | &nbsp;&nbsp;convert to bool              |\n",
    "| runtime               | estimation pollutes analysis | &nbsp;&nbsp;use mean or median of others |"
   ]
  },
  {
   "cell_type": "code",
   "execution_count": null,
   "metadata": {},
   "outputs": [],
   "source": [
    "\n",
    "# removing trash\n",
    "mdf = mdf[mdf['adult'] == 'False'].append(other=mdf[mdf['adult'] == 'True'], verify_integrity=True)\n",
    "# str to bool\n",
    "mdf['adult'] = mdf['adult'] == 'True'\n",
    "\n",
    "# removing invalid dupes\n",
    "mdf = (mdf\n",
    "    .drop(index=mdf[mdf['id'].duplicated()].index)\n",
    "    .drop(index=mdf[mdf['imdb_id'].duplicated()].index)\n",
    "      )"
   ]
  },
  {
   "cell_type": "markdown",
   "metadata": {},
   "source": [
    "| Dropped rows count | Reason | Alternative |\n",
    "| --- |:---:| ---:|\n",
    "| xxx | yyy | zzz |"
   ]
  },
  {
   "cell_type": "code",
   "execution_count": null,
   "metadata": {},
   "outputs": [],
   "source": [
    "mdf[(mdf['budget'].astype(np.float64) - mdf['budget'].astype(np.int64)) != 0.0]\n",
    "mdf['budget'] = mdf['budget'].astype(np.int64)"
   ]
  },
  {
   "cell_type": "markdown",
   "metadata": {},
   "source": [
    "<hr>"
   ]
  },
  {
   "cell_type": "code",
   "execution_count": null,
   "metadata": {},
   "outputs": [],
   "source": [
    "## this is safer than eval to parse the json in df's fields\n",
    "#ast.literal_eval(cdf['crew'].iloc[0])"
   ]
  },
  {
   "cell_type": "markdown",
   "metadata": {},
   "source": [
    "<hr>"
   ]
  },
  {
   "cell_type": "markdown",
   "metadata": {},
   "source": [
    "### <center>Testes de Hipótese</center>"
   ]
  },
  {
   "cell_type": "markdown",
   "metadata": {},
   "source": [
    "#### I. H<sub>0</sub>: O revenue de filmes do mesmo gênero não é influenciado pela data de lançamento."
   ]
  },
  {
   "cell_type": "markdown",
   "metadata": {},
   "source": [
    "#### II. H<sub>0</sub>: A média de idade dos 10 atores principais está correlacionada com os ratings."
   ]
  },
  {
   "cell_type": "markdown",
   "metadata": {},
   "source": [
    "### <center>Regressão</center>"
   ]
  },
  {
   "cell_type": "markdown",
   "metadata": {},
   "source": [
    "#### Least Squares"
   ]
  },
  {
   "cell_type": "markdown",
   "metadata": {},
   "source": [
    "### <center>Classificação</center>"
   ]
  },
  {
   "cell_type": "markdown",
   "metadata": {},
   "source": [
    "#### Hidden Markov Model"
   ]
  },
  {
   "cell_type": "markdown",
   "metadata": {},
   "source": [
    "### <center>Agrupamento</center>"
   ]
  },
  {
   "cell_type": "markdown",
   "metadata": {},
   "source": [
    "#### DBScan"
   ]
  },
  {
   "cell_type": "markdown",
   "metadata": {},
   "source": [
    "### <center>Relatório Final:</center>\n",
    "<br>\n",
    "\n",
    "#### Sua análise dos dados deve apresentar:\n",
    "- Uma caracterização (análise exploratória) inicial dos dados **(2pts)**\n",
    "- Pelo menos, dois testes de hipótese/intervalos de confiança **(2pts)**\n",
    "    - Os ICs podem ser apresentados nos resultados de regressão e classificação abaixo.\n",
    "    - Os testes de hipótese também podem ser utilizados abaixo para comparar modelos.\n",
    "- Pelo menos uma regressão **(3pts)**\n",
    "- Pelo menos um algoritmo de aprendizado/classificação **(3pts)**\n",
    "\n",
    "#### No seu relatório, você deve apresentar pelo menos os seguintes pontos:\n",
    "- Introdução com Motivação e Pergunta de Pesquisa\n",
    "- Metodologia\n",
    "- Descreva sua base\n",
    "- Quais métodos e modelos foram utilizados. Justifique os mesmos.\n",
    "- Resultados. Sugiro separar em\n",
    "    - Caracterização (análise exploratória)\n",
    "    - Testes de hipótese podem vir aqui.\n",
    "    - Previsão (uma ou duas sub-seções dependendo dos modelos utilizados)\n",
    "    - Conclusões\n",
    "\n",
    "Responda suas perguntas:\n",
    "- Qual a melhor época do ano para anunciar e lançar um filme?\n",
    "- Como a popularidade dos gêneros dos filmes evoluiu ao longo dos anos?\n",
    "- Qual o peso de um ator/atriz popular no retorno financeiro de um filme com avaliação \"ruim\"?\n",
    "\n",
    "### Vídeo\n",
    "Vídeo no Youtube 5 minutos (pode ser um vídeo só de slides) **(5pts)**"
   ]
  }
 ],
 "metadata": {
  "kernelspec": {
   "display_name": "Python 3",
   "language": "python",
   "name": "python3"
  },
  "language_info": {
   "codemirror_mode": {
    "name": "ipython",
    "version": 3
   },
   "file_extension": ".py",
   "mimetype": "text/x-python",
   "name": "python",
   "nbconvert_exporter": "python",
   "pygments_lexer": "ipython3",
   "version": "3.6.9"
  }
 },
 "nbformat": 4,
 "nbformat_minor": 4
}
