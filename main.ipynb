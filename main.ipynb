{
 "cells": [
  {
   "cell_type": "code",
   "execution_count": null,
   "metadata": {},
   "outputs": [],
   "source": [
    "import ast\n",
    "import numpy as np\n",
    "import pandas as pd\n",
    "from pprint import pprint\n",
    "\n",
    "from kindlib.fluff import *"
   ]
  },
  {
   "cell_type": "code",
   "execution_count": null,
   "metadata": {},
   "outputs": [],
   "source": [
    "cdf = pd.read_pickle('data/credits.pkl')\n",
    "kdf = pd.read_pickle('data/keywords.pkl')\n",
    "mdf = pd.read_pickle('data/movies_metadata.pkl')\n",
    "rdf = pd.read_pickle('data/ratings.pkl')"
   ]
  },
  {
   "cell_type": "code",
   "execution_count": null,
   "metadata": {},
   "outputs": [],
   "source": [
    "#ast.literal_eval(cdf['crew'].iloc[0])"
   ]
  },
  {
   "cell_type": "code",
   "execution_count": null,
   "metadata": {},
   "outputs": [],
   "source": [
    "print('Total number of entries:', len(mdf))\n",
    "pd.DataFrame(data=[(c, mdf[c].dtype, mdf[c].nunique(), mdf[c].isna().sum()) for c in mdf.columns], columns=['col', 'type', 'nunique', 'nan']).style.hide_index()"
   ]
  },
  {
   "cell_type": "markdown",
   "metadata": {},
   "source": [
    "### Caracterização"
   ]
  },
  {
   "cell_type": "markdown",
   "metadata": {},
   "source": [
    "### Testes de Hipótese"
   ]
  },
  {
   "cell_type": "markdown",
   "metadata": {},
   "source": [
    "### Regressão"
   ]
  },
  {
   "cell_type": "markdown",
   "metadata": {},
   "source": [
    "### Hidden Markov Model"
   ]
  },
  {
   "cell_type": "markdown",
   "metadata": {},
   "source": [
    "### Relatório Final:\n",
    "<br>\n",
    "\n",
    "#### Sua análise dos dados deve apresentar:\n",
    "- Uma caracterização (análise exploratória) inicial dos dados **(2pts)**\n",
    "- Pelo menos, dois testes de hipótese/intervalos de confiança **(2pts)**\n",
    "    - Os ICs podem ser apresentados nos resultados de regressão e classificação abaixo.\n",
    "    - Os testes de hipótese também podem ser utilizados abaixo para comparar modelos.\n",
    "- Pelo menos uma regressão **(3pts)**\n",
    "- Pelo menos um algoritmo de aprendizado/classificação **(3pts)**\n",
    "\n",
    "#### No seu relatório, você deve apresentar pelo menos os seguintes pontos:\n",
    "- Introdução com Motivação e Pergunta de Pesquisa\n",
    "- Metodologia\n",
    "- Descreva sua base\n",
    "- Quais métodos e modelos foram utilizados. Justifique os mesmos.\n",
    "- Resultados. Sugiro separar em\n",
    "    - Caracterização (análise exploratória)\n",
    "    - Testes de hipótese podem vir aqui.\n",
    "    - Previsão (uma ou duas sub-seções dependendo dos modelos utilizados)\n",
    "    - Conclusões\n",
    "\n",
    "Responda suas perguntas:\n",
    "- Qual a melhor época do ano para anunciar e lançar um filme?\n",
    "- Como a popularidade dos gêneros dos filmes evoluiu ao longo dos anos?\n",
    "- Qual o peso de um ator/atriz popular no retorno financeiro de um filme com avaliação \"ruim\"?\n",
    "\n",
    "### Vídeo\n",
    "Vídeo no Youtube 5 minutos (pode ser um vídeo só de slides) **(5pts)**"
   ]
  }
 ],
 "metadata": {
  "kernelspec": {
   "display_name": "Python 3",
   "language": "python",
   "name": "python3"
  },
  "language_info": {
   "codemirror_mode": {
    "name": "ipython",
    "version": 3
   },
   "file_extension": ".py",
   "mimetype": "text/x-python",
   "name": "python",
   "nbconvert_exporter": "python",
   "pygments_lexer": "ipython3",
   "version": "3.6.9"
  }
 },
 "nbformat": 4,
 "nbformat_minor": 4
}
