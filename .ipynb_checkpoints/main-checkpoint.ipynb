{
 "cells": [
  {
   "cell_type": "code",
   "execution_count": 1,
   "metadata": {},
   "outputs": [],
   "source": [
    "import ast\n",
    "import numpy as np\n",
    "from scipy.stats import iqr\n",
    "from pprint import pprint\n",
    "from datetime import datetime\n",
    "import re\n",
    "import string\n",
    "\n",
    "import pandas as pd\n",
    "pd.set_option('display.max_columns', None)\n",
    "pd.set_option('display.float_format', lambda x: '{:⎯>13.3f}'.format(x))\n",
    "\n",
    "# plotting\n",
    "import matplotlib.pyplot as plt\n",
    "from matplotlib.ticker import StrMethodFormatter\n",
    "\n",
    "# fluff\n",
    "from jupyterthemes import jtplot\n",
    "jtplot.style()\n",
    "from kindlib.fluff import *\n",
    "\n",
    "from sklearn.model_selection import train_test_split\n",
    "from sklearn.linear_model import LogisticRegression\n",
    "from sklearn import metrics"
   ]
  },
  {
   "cell_type": "code",
   "execution_count": 2,
   "metadata": {},
   "outputs": [
    {
     "name": "stdout",
     "output_type": "stream",
     "text": [
      "['adult',\n",
      " 'belongs_to_collection',\n",
      " 'budget',\n",
      " 'genres',\n",
      " 'homepage',\n",
      " 'id',\n",
      " 'imdb_id',\n",
      " 'original_language',\n",
      " 'original_title',\n",
      " 'overview',\n",
      " 'popularity',\n",
      " 'poster_path',\n",
      " 'production_companies',\n",
      " 'production_countries',\n",
      " 'release_date',\n",
      " 'revenue',\n",
      " 'runtime',\n",
      " 'spoken_languages',\n",
      " 'status',\n",
      " 'tagline',\n",
      " 'title',\n",
      " 'video',\n",
      " 'vote_average',\n",
      " 'vote_count']\n"
     ]
    },
    {
     "data": {
      "text/plain": [
       "(45466, 24)"
      ]
     },
     "execution_count": 2,
     "metadata": {},
     "output_type": "execute_result"
    }
   ],
   "source": [
    "mdf = pd.read_pickle('data/movies_metadata.pkl')\n",
    "\n",
    "pprint(list(mdf.columns))\n",
    "mdf.shape"
   ]
  },
  {
   "cell_type": "markdown",
   "metadata": {},
   "source": [
    "### <center>Caracterização</center>"
   ]
  },
  {
   "cell_type": "code",
   "execution_count": 3,
   "metadata": {
    "scrolled": true
   },
   "outputs": [
    {
     "name": "stdout",
     "output_type": "stream",
     "text": [
      "Total number of entries: 45466\n"
     ]
    },
    {
     "data": {
      "text/html": [
       "<table style=\"display:inline\" border=\"1\" class=\"dataframe\">\n",
       "  <thead>\n",
       "    <tr style=\"text-align: right;\">\n",
       "      <th></th>\n",
       "      <th>type</th>\n",
       "      <th>nunique</th>\n",
       "      <th>nan</th>\n",
       "      <th>duplicated_values</th>\n",
       "    </tr>\n",
       "    <tr>\n",
       "      <th>Feature</th>\n",
       "      <th></th>\n",
       "      <th></th>\n",
       "      <th></th>\n",
       "      <th></th>\n",
       "    </tr>\n",
       "  </thead>\n",
       "  <tbody>\n",
       "    <tr>\n",
       "      <th>adult</th>\n",
       "      <td style=\"max-width: 150px;overflow-x:hidden\">object</td style=\"max-width: 150px;overflow-x:hidden\">\n",
       "      <td style=\"max-width: 150px;overflow-x:hidden\">5</td style=\"max-width: 150px;overflow-x:hidden\">\n",
       "      <td style=\"max-width: 150px;overflow-x:hidden\">0</td style=\"max-width: 150px;overflow-x:hidden\">\n",
       "      <td style=\"max-width: 150px;overflow-x:hidden\">45461</td style=\"max-width: 150px;overflow-x:hidden\">\n",
       "    </tr>\n",
       "  </tbody>\n",
       "</table style=\"display:inline\"><table style=\"display:inline\" border=\"1\" class=\"dataframe\">\n",
       "  <thead>\n",
       "    <tr style=\"text-align: right;\">\n",
       "      <th></th>\n",
       "      <th>values</th>\n",
       "    </tr>\n",
       "  </thead>\n",
       "  <tbody>\n",
       "    <tr>\n",
       "      <th>0</th>\n",
       "      <td style=\"max-width: 150px;overflow-x:hidden\">False</td style=\"max-width: 150px;overflow-x:hidden\">\n",
       "    </tr>\n",
       "    <tr>\n",
       "      <th>1</th>\n",
       "      <td style=\"max-width: 150px;overflow-x:hidden\">True</td style=\"max-width: 150px;overflow-x:hidden\">\n",
       "    </tr>\n",
       "    <tr>\n",
       "      <th>2</th>\n",
       "      <td style=\"max-width: 150px;overflow-x:hidden\">- Written by Ørnås</td style=\"max-width: 150px;overflow-x:hidden\">\n",
       "    </tr>\n",
       "    <tr>\n",
       "      <th>3</th>\n",
       "      <td style=\"max-width: 150px;overflow-x:hidden\">Rune Balot goes to a casino connected to the October corporation to try to wrap up her case once and for all.</td style=\"max-width: 150px;overflow-x:hidden\">\n",
       "    </tr>\n",
       "    <tr>\n",
       "      <th>4</th>\n",
       "      <td style=\"max-width: 150px;overflow-x:hidden\">Avalanche Sharks tells the story of a bikini contest that turns into a horrifying affair when it is hit by a shark avalanche.</td style=\"max-width: 150px;overflow-x:hidden\">\n",
       "    </tr>\n",
       "  </tbody>\n",
       "</table style=\"display:inline\">"
      ]
     },
     "metadata": {},
     "output_type": "display_data"
    },
    {
     "name": "stdout",
     "output_type": "stream",
     "text": [
      "\n"
     ]
    },
    {
     "data": {
      "text/html": [
       "<div>\n",
       "<style scoped>\n",
       "    .dataframe tbody tr th:only-of-type {\n",
       "        vertical-align: middle;\n",
       "    }\n",
       "\n",
       "    .dataframe tbody tr th {\n",
       "        vertical-align: top;\n",
       "    }\n",
       "\n",
       "    .dataframe thead th {\n",
       "        text-align: right;\n",
       "    }\n",
       "</style>\n",
       "<table border=\"1\" class=\"dataframe\">\n",
       "  <thead>\n",
       "    <tr style=\"text-align: right;\">\n",
       "      <th></th>\n",
       "      <th>type</th>\n",
       "      <th>nunique</th>\n",
       "      <th>nan</th>\n",
       "      <th>duplicated_values</th>\n",
       "    </tr>\n",
       "    <tr>\n",
       "      <th>Feature</th>\n",
       "      <th></th>\n",
       "      <th></th>\n",
       "      <th></th>\n",
       "      <th></th>\n",
       "    </tr>\n",
       "  </thead>\n",
       "  <tbody>\n",
       "    <tr>\n",
       "      <th>belongs_to_collection</th>\n",
       "      <td>object</td>\n",
       "      <td>1698</td>\n",
       "      <td>40972</td>\n",
       "      <td>43767</td>\n",
       "    </tr>\n",
       "  </tbody>\n",
       "</table>\n",
       "</div>"
      ],
      "text/plain": [
       "                         type nunique    nan duplicated_values\n",
       "Feature                                                       \n",
       "belongs_to_collection  object    1698  40972             43767"
      ]
     },
     "metadata": {},
     "output_type": "display_data"
    },
    {
     "name": "stdout",
     "output_type": "stream",
     "text": [
      "\n"
     ]
    },
    {
     "data": {
      "text/html": [
       "<div>\n",
       "<style scoped>\n",
       "    .dataframe tbody tr th:only-of-type {\n",
       "        vertical-align: middle;\n",
       "    }\n",
       "\n",
       "    .dataframe tbody tr th {\n",
       "        vertical-align: top;\n",
       "    }\n",
       "\n",
       "    .dataframe thead th {\n",
       "        text-align: right;\n",
       "    }\n",
       "</style>\n",
       "<table border=\"1\" class=\"dataframe\">\n",
       "  <thead>\n",
       "    <tr style=\"text-align: right;\">\n",
       "      <th></th>\n",
       "      <th>type</th>\n",
       "      <th>nunique</th>\n",
       "      <th>nan</th>\n",
       "      <th>duplicated_values</th>\n",
       "    </tr>\n",
       "    <tr>\n",
       "      <th>Feature</th>\n",
       "      <th></th>\n",
       "      <th></th>\n",
       "      <th></th>\n",
       "      <th></th>\n",
       "    </tr>\n",
       "  </thead>\n",
       "  <tbody>\n",
       "    <tr>\n",
       "      <th>budget</th>\n",
       "      <td>object</td>\n",
       "      <td>1226</td>\n",
       "      <td>0</td>\n",
       "      <td>44240</td>\n",
       "    </tr>\n",
       "  </tbody>\n",
       "</table>\n",
       "</div>"
      ],
      "text/plain": [
       "           type nunique nan duplicated_values\n",
       "Feature                                      \n",
       "budget   object    1226   0             44240"
      ]
     },
     "metadata": {},
     "output_type": "display_data"
    },
    {
     "name": "stdout",
     "output_type": "stream",
     "text": [
      "\n"
     ]
    },
    {
     "data": {
      "text/html": [
       "<div>\n",
       "<style scoped>\n",
       "    .dataframe tbody tr th:only-of-type {\n",
       "        vertical-align: middle;\n",
       "    }\n",
       "\n",
       "    .dataframe tbody tr th {\n",
       "        vertical-align: top;\n",
       "    }\n",
       "\n",
       "    .dataframe thead th {\n",
       "        text-align: right;\n",
       "    }\n",
       "</style>\n",
       "<table border=\"1\" class=\"dataframe\">\n",
       "  <thead>\n",
       "    <tr style=\"text-align: right;\">\n",
       "      <th></th>\n",
       "      <th>type</th>\n",
       "      <th>nunique</th>\n",
       "      <th>nan</th>\n",
       "      <th>duplicated_values</th>\n",
       "    </tr>\n",
       "    <tr>\n",
       "      <th>Feature</th>\n",
       "      <th></th>\n",
       "      <th></th>\n",
       "      <th></th>\n",
       "      <th></th>\n",
       "    </tr>\n",
       "  </thead>\n",
       "  <tbody>\n",
       "    <tr>\n",
       "      <th>genres</th>\n",
       "      <td>object</td>\n",
       "      <td>4069</td>\n",
       "      <td>0</td>\n",
       "      <td>41397</td>\n",
       "    </tr>\n",
       "  </tbody>\n",
       "</table>\n",
       "</div>"
      ],
      "text/plain": [
       "           type nunique nan duplicated_values\n",
       "Feature                                      \n",
       "genres   object    4069   0             41397"
      ]
     },
     "metadata": {},
     "output_type": "display_data"
    },
    {
     "name": "stdout",
     "output_type": "stream",
     "text": [
      "\n"
     ]
    },
    {
     "data": {
      "text/html": [
       "<div>\n",
       "<style scoped>\n",
       "    .dataframe tbody tr th:only-of-type {\n",
       "        vertical-align: middle;\n",
       "    }\n",
       "\n",
       "    .dataframe tbody tr th {\n",
       "        vertical-align: top;\n",
       "    }\n",
       "\n",
       "    .dataframe thead th {\n",
       "        text-align: right;\n",
       "    }\n",
       "</style>\n",
       "<table border=\"1\" class=\"dataframe\">\n",
       "  <thead>\n",
       "    <tr style=\"text-align: right;\">\n",
       "      <th></th>\n",
       "      <th>type</th>\n",
       "      <th>nunique</th>\n",
       "      <th>nan</th>\n",
       "      <th>duplicated_values</th>\n",
       "    </tr>\n",
       "    <tr>\n",
       "      <th>Feature</th>\n",
       "      <th></th>\n",
       "      <th></th>\n",
       "      <th></th>\n",
       "      <th></th>\n",
       "    </tr>\n",
       "  </thead>\n",
       "  <tbody>\n",
       "    <tr>\n",
       "      <th>homepage</th>\n",
       "      <td>object</td>\n",
       "      <td>7673</td>\n",
       "      <td>37684</td>\n",
       "      <td>37792</td>\n",
       "    </tr>\n",
       "  </tbody>\n",
       "</table>\n",
       "</div>"
      ],
      "text/plain": [
       "            type nunique    nan duplicated_values\n",
       "Feature                                          \n",
       "homepage  object    7673  37684             37792"
      ]
     },
     "metadata": {},
     "output_type": "display_data"
    },
    {
     "name": "stdout",
     "output_type": "stream",
     "text": [
      "\n"
     ]
    },
    {
     "data": {
      "text/html": [
       "<div>\n",
       "<style scoped>\n",
       "    .dataframe tbody tr th:only-of-type {\n",
       "        vertical-align: middle;\n",
       "    }\n",
       "\n",
       "    .dataframe tbody tr th {\n",
       "        vertical-align: top;\n",
       "    }\n",
       "\n",
       "    .dataframe thead th {\n",
       "        text-align: right;\n",
       "    }\n",
       "</style>\n",
       "<table border=\"1\" class=\"dataframe\">\n",
       "  <thead>\n",
       "    <tr style=\"text-align: right;\">\n",
       "      <th></th>\n",
       "      <th>type</th>\n",
       "      <th>nunique</th>\n",
       "      <th>nan</th>\n",
       "      <th>duplicated_values</th>\n",
       "    </tr>\n",
       "    <tr>\n",
       "      <th>Feature</th>\n",
       "      <th></th>\n",
       "      <th></th>\n",
       "      <th></th>\n",
       "      <th></th>\n",
       "    </tr>\n",
       "  </thead>\n",
       "  <tbody>\n",
       "    <tr>\n",
       "      <th>id</th>\n",
       "      <td>object</td>\n",
       "      <td>45436</td>\n",
       "      <td>0</td>\n",
       "      <td>30</td>\n",
       "    </tr>\n",
       "  </tbody>\n",
       "</table>\n",
       "</div>"
      ],
      "text/plain": [
       "           type nunique nan duplicated_values\n",
       "Feature                                      \n",
       "id       object   45436   0                30"
      ]
     },
     "metadata": {},
     "output_type": "display_data"
    },
    {
     "name": "stdout",
     "output_type": "stream",
     "text": [
      "\n"
     ]
    },
    {
     "data": {
      "text/html": [
       "<div>\n",
       "<style scoped>\n",
       "    .dataframe tbody tr th:only-of-type {\n",
       "        vertical-align: middle;\n",
       "    }\n",
       "\n",
       "    .dataframe tbody tr th {\n",
       "        vertical-align: top;\n",
       "    }\n",
       "\n",
       "    .dataframe thead th {\n",
       "        text-align: right;\n",
       "    }\n",
       "</style>\n",
       "<table border=\"1\" class=\"dataframe\">\n",
       "  <thead>\n",
       "    <tr style=\"text-align: right;\">\n",
       "      <th></th>\n",
       "      <th>type</th>\n",
       "      <th>nunique</th>\n",
       "      <th>nan</th>\n",
       "      <th>duplicated_values</th>\n",
       "    </tr>\n",
       "    <tr>\n",
       "      <th>Feature</th>\n",
       "      <th></th>\n",
       "      <th></th>\n",
       "      <th></th>\n",
       "      <th></th>\n",
       "    </tr>\n",
       "  </thead>\n",
       "  <tbody>\n",
       "    <tr>\n",
       "      <th>imdb_id</th>\n",
       "      <td>object</td>\n",
       "      <td>45417</td>\n",
       "      <td>17</td>\n",
       "      <td>48</td>\n",
       "    </tr>\n",
       "  </tbody>\n",
       "</table>\n",
       "</div>"
      ],
      "text/plain": [
       "           type nunique nan duplicated_values\n",
       "Feature                                      \n",
       "imdb_id  object   45417  17                48"
      ]
     },
     "metadata": {},
     "output_type": "display_data"
    },
    {
     "name": "stdout",
     "output_type": "stream",
     "text": [
      "\n"
     ]
    },
    {
     "data": {
      "text/html": [
       "<div>\n",
       "<style scoped>\n",
       "    .dataframe tbody tr th:only-of-type {\n",
       "        vertical-align: middle;\n",
       "    }\n",
       "\n",
       "    .dataframe tbody tr th {\n",
       "        vertical-align: top;\n",
       "    }\n",
       "\n",
       "    .dataframe thead th {\n",
       "        text-align: right;\n",
       "    }\n",
       "</style>\n",
       "<table border=\"1\" class=\"dataframe\">\n",
       "  <thead>\n",
       "    <tr style=\"text-align: right;\">\n",
       "      <th></th>\n",
       "      <th>type</th>\n",
       "      <th>nunique</th>\n",
       "      <th>nan</th>\n",
       "      <th>duplicated_values</th>\n",
       "    </tr>\n",
       "    <tr>\n",
       "      <th>Feature</th>\n",
       "      <th></th>\n",
       "      <th></th>\n",
       "      <th></th>\n",
       "      <th></th>\n",
       "    </tr>\n",
       "  </thead>\n",
       "  <tbody>\n",
       "    <tr>\n",
       "      <th>original_language</th>\n",
       "      <td>object</td>\n",
       "      <td>92</td>\n",
       "      <td>11</td>\n",
       "      <td>45373</td>\n",
       "    </tr>\n",
       "  </tbody>\n",
       "</table>\n",
       "</div>"
      ],
      "text/plain": [
       "                     type nunique nan duplicated_values\n",
       "Feature                                                \n",
       "original_language  object      92  11             45373"
      ]
     },
     "metadata": {},
     "output_type": "display_data"
    },
    {
     "name": "stdout",
     "output_type": "stream",
     "text": [
      "\n"
     ]
    },
    {
     "data": {
      "text/html": [
       "<div>\n",
       "<style scoped>\n",
       "    .dataframe tbody tr th:only-of-type {\n",
       "        vertical-align: middle;\n",
       "    }\n",
       "\n",
       "    .dataframe tbody tr th {\n",
       "        vertical-align: top;\n",
       "    }\n",
       "\n",
       "    .dataframe thead th {\n",
       "        text-align: right;\n",
       "    }\n",
       "</style>\n",
       "<table border=\"1\" class=\"dataframe\">\n",
       "  <thead>\n",
       "    <tr style=\"text-align: right;\">\n",
       "      <th></th>\n",
       "      <th>type</th>\n",
       "      <th>nunique</th>\n",
       "      <th>nan</th>\n",
       "      <th>duplicated_values</th>\n",
       "    </tr>\n",
       "    <tr>\n",
       "      <th>Feature</th>\n",
       "      <th></th>\n",
       "      <th></th>\n",
       "      <th></th>\n",
       "      <th></th>\n",
       "    </tr>\n",
       "  </thead>\n",
       "  <tbody>\n",
       "    <tr>\n",
       "      <th>original_title</th>\n",
       "      <td>object</td>\n",
       "      <td>43373</td>\n",
       "      <td>0</td>\n",
       "      <td>2093</td>\n",
       "    </tr>\n",
       "  </tbody>\n",
       "</table>\n",
       "</div>"
      ],
      "text/plain": [
       "                  type nunique nan duplicated_values\n",
       "Feature                                             \n",
       "original_title  object   43373   0              2093"
      ]
     },
     "metadata": {},
     "output_type": "display_data"
    },
    {
     "name": "stdout",
     "output_type": "stream",
     "text": [
      "\n"
     ]
    },
    {
     "data": {
      "text/html": [
       "<div>\n",
       "<style scoped>\n",
       "    .dataframe tbody tr th:only-of-type {\n",
       "        vertical-align: middle;\n",
       "    }\n",
       "\n",
       "    .dataframe tbody tr th {\n",
       "        vertical-align: top;\n",
       "    }\n",
       "\n",
       "    .dataframe thead th {\n",
       "        text-align: right;\n",
       "    }\n",
       "</style>\n",
       "<table border=\"1\" class=\"dataframe\">\n",
       "  <thead>\n",
       "    <tr style=\"text-align: right;\">\n",
       "      <th></th>\n",
       "      <th>type</th>\n",
       "      <th>nunique</th>\n",
       "      <th>nan</th>\n",
       "      <th>duplicated_values</th>\n",
       "    </tr>\n",
       "    <tr>\n",
       "      <th>Feature</th>\n",
       "      <th></th>\n",
       "      <th></th>\n",
       "      <th></th>\n",
       "      <th></th>\n",
       "    </tr>\n",
       "  </thead>\n",
       "  <tbody>\n",
       "    <tr>\n",
       "      <th>overview</th>\n",
       "      <td>object</td>\n",
       "      <td>44307</td>\n",
       "      <td>954</td>\n",
       "      <td>1158</td>\n",
       "    </tr>\n",
       "  </tbody>\n",
       "</table>\n",
       "</div>"
      ],
      "text/plain": [
       "            type nunique  nan duplicated_values\n",
       "Feature                                        \n",
       "overview  object   44307  954              1158"
      ]
     },
     "metadata": {},
     "output_type": "display_data"
    },
    {
     "name": "stdout",
     "output_type": "stream",
     "text": [
      "\n"
     ]
    },
    {
     "data": {
      "text/html": [
       "<div>\n",
       "<style scoped>\n",
       "    .dataframe tbody tr th:only-of-type {\n",
       "        vertical-align: middle;\n",
       "    }\n",
       "\n",
       "    .dataframe tbody tr th {\n",
       "        vertical-align: top;\n",
       "    }\n",
       "\n",
       "    .dataframe thead th {\n",
       "        text-align: right;\n",
       "    }\n",
       "</style>\n",
       "<table border=\"1\" class=\"dataframe\">\n",
       "  <thead>\n",
       "    <tr style=\"text-align: right;\">\n",
       "      <th></th>\n",
       "      <th>type</th>\n",
       "      <th>nunique</th>\n",
       "      <th>nan</th>\n",
       "      <th>duplicated_values</th>\n",
       "    </tr>\n",
       "    <tr>\n",
       "      <th>Feature</th>\n",
       "      <th></th>\n",
       "      <th></th>\n",
       "      <th></th>\n",
       "      <th></th>\n",
       "    </tr>\n",
       "  </thead>\n",
       "  <tbody>\n",
       "    <tr>\n",
       "      <th>popularity</th>\n",
       "      <td>object</td>\n",
       "      <td>44176</td>\n",
       "      <td>5</td>\n",
       "      <td>1289</td>\n",
       "    </tr>\n",
       "  </tbody>\n",
       "</table>\n",
       "</div>"
      ],
      "text/plain": [
       "              type nunique nan duplicated_values\n",
       "Feature                                         \n",
       "popularity  object   44176   5              1289"
      ]
     },
     "metadata": {},
     "output_type": "display_data"
    },
    {
     "name": "stdout",
     "output_type": "stream",
     "text": [
      "\n"
     ]
    },
    {
     "data": {
      "text/html": [
       "<div>\n",
       "<style scoped>\n",
       "    .dataframe tbody tr th:only-of-type {\n",
       "        vertical-align: middle;\n",
       "    }\n",
       "\n",
       "    .dataframe tbody tr th {\n",
       "        vertical-align: top;\n",
       "    }\n",
       "\n",
       "    .dataframe thead th {\n",
       "        text-align: right;\n",
       "    }\n",
       "</style>\n",
       "<table border=\"1\" class=\"dataframe\">\n",
       "  <thead>\n",
       "    <tr style=\"text-align: right;\">\n",
       "      <th></th>\n",
       "      <th>type</th>\n",
       "      <th>nunique</th>\n",
       "      <th>nan</th>\n",
       "      <th>duplicated_values</th>\n",
       "    </tr>\n",
       "    <tr>\n",
       "      <th>Feature</th>\n",
       "      <th></th>\n",
       "      <th></th>\n",
       "      <th></th>\n",
       "      <th></th>\n",
       "    </tr>\n",
       "  </thead>\n",
       "  <tbody>\n",
       "    <tr>\n",
       "      <th>poster_path</th>\n",
       "      <td>object</td>\n",
       "      <td>45024</td>\n",
       "      <td>386</td>\n",
       "      <td>441</td>\n",
       "    </tr>\n",
       "  </tbody>\n",
       "</table>\n",
       "</div>"
      ],
      "text/plain": [
       "               type nunique  nan duplicated_values\n",
       "Feature                                           \n",
       "poster_path  object   45024  386               441"
      ]
     },
     "metadata": {},
     "output_type": "display_data"
    },
    {
     "name": "stdout",
     "output_type": "stream",
     "text": [
      "\n"
     ]
    },
    {
     "data": {
      "text/html": [
       "<div>\n",
       "<style scoped>\n",
       "    .dataframe tbody tr th:only-of-type {\n",
       "        vertical-align: middle;\n",
       "    }\n",
       "\n",
       "    .dataframe tbody tr th {\n",
       "        vertical-align: top;\n",
       "    }\n",
       "\n",
       "    .dataframe thead th {\n",
       "        text-align: right;\n",
       "    }\n",
       "</style>\n",
       "<table border=\"1\" class=\"dataframe\">\n",
       "  <thead>\n",
       "    <tr style=\"text-align: right;\">\n",
       "      <th></th>\n",
       "      <th>type</th>\n",
       "      <th>nunique</th>\n",
       "      <th>nan</th>\n",
       "      <th>duplicated_values</th>\n",
       "    </tr>\n",
       "    <tr>\n",
       "      <th>Feature</th>\n",
       "      <th></th>\n",
       "      <th></th>\n",
       "      <th></th>\n",
       "      <th></th>\n",
       "    </tr>\n",
       "  </thead>\n",
       "  <tbody>\n",
       "    <tr>\n",
       "      <th>production_companies</th>\n",
       "      <td>object</td>\n",
       "      <td>22708</td>\n",
       "      <td>3</td>\n",
       "      <td>22757</td>\n",
       "    </tr>\n",
       "  </tbody>\n",
       "</table>\n",
       "</div>"
      ],
      "text/plain": [
       "                        type nunique nan duplicated_values\n",
       "Feature                                                   \n",
       "production_companies  object   22708   3             22757"
      ]
     },
     "metadata": {},
     "output_type": "display_data"
    },
    {
     "name": "stdout",
     "output_type": "stream",
     "text": [
      "\n"
     ]
    },
    {
     "data": {
      "text/html": [
       "<div>\n",
       "<style scoped>\n",
       "    .dataframe tbody tr th:only-of-type {\n",
       "        vertical-align: middle;\n",
       "    }\n",
       "\n",
       "    .dataframe tbody tr th {\n",
       "        vertical-align: top;\n",
       "    }\n",
       "\n",
       "    .dataframe thead th {\n",
       "        text-align: right;\n",
       "    }\n",
       "</style>\n",
       "<table border=\"1\" class=\"dataframe\">\n",
       "  <thead>\n",
       "    <tr style=\"text-align: right;\">\n",
       "      <th></th>\n",
       "      <th>type</th>\n",
       "      <th>nunique</th>\n",
       "      <th>nan</th>\n",
       "      <th>duplicated_values</th>\n",
       "    </tr>\n",
       "    <tr>\n",
       "      <th>Feature</th>\n",
       "      <th></th>\n",
       "      <th></th>\n",
       "      <th></th>\n",
       "      <th></th>\n",
       "    </tr>\n",
       "  </thead>\n",
       "  <tbody>\n",
       "    <tr>\n",
       "      <th>production_countries</th>\n",
       "      <td>object</td>\n",
       "      <td>2393</td>\n",
       "      <td>3</td>\n",
       "      <td>43072</td>\n",
       "    </tr>\n",
       "  </tbody>\n",
       "</table>\n",
       "</div>"
      ],
      "text/plain": [
       "                        type nunique nan duplicated_values\n",
       "Feature                                                   \n",
       "production_countries  object    2393   3             43072"
      ]
     },
     "metadata": {},
     "output_type": "display_data"
    },
    {
     "name": "stdout",
     "output_type": "stream",
     "text": [
      "\n"
     ]
    },
    {
     "data": {
      "text/html": [
       "<div>\n",
       "<style scoped>\n",
       "    .dataframe tbody tr th:only-of-type {\n",
       "        vertical-align: middle;\n",
       "    }\n",
       "\n",
       "    .dataframe tbody tr th {\n",
       "        vertical-align: top;\n",
       "    }\n",
       "\n",
       "    .dataframe thead th {\n",
       "        text-align: right;\n",
       "    }\n",
       "</style>\n",
       "<table border=\"1\" class=\"dataframe\">\n",
       "  <thead>\n",
       "    <tr style=\"text-align: right;\">\n",
       "      <th></th>\n",
       "      <th>type</th>\n",
       "      <th>nunique</th>\n",
       "      <th>nan</th>\n",
       "      <th>duplicated_values</th>\n",
       "    </tr>\n",
       "    <tr>\n",
       "      <th>Feature</th>\n",
       "      <th></th>\n",
       "      <th></th>\n",
       "      <th></th>\n",
       "      <th></th>\n",
       "    </tr>\n",
       "  </thead>\n",
       "  <tbody>\n",
       "    <tr>\n",
       "      <th>release_date</th>\n",
       "      <td>object</td>\n",
       "      <td>17336</td>\n",
       "      <td>87</td>\n",
       "      <td>28129</td>\n",
       "    </tr>\n",
       "  </tbody>\n",
       "</table>\n",
       "</div>"
      ],
      "text/plain": [
       "                type nunique nan duplicated_values\n",
       "Feature                                           \n",
       "release_date  object   17336  87             28129"
      ]
     },
     "metadata": {},
     "output_type": "display_data"
    },
    {
     "name": "stdout",
     "output_type": "stream",
     "text": [
      "\n"
     ]
    },
    {
     "data": {
      "text/html": [
       "<div>\n",
       "<style scoped>\n",
       "    .dataframe tbody tr th:only-of-type {\n",
       "        vertical-align: middle;\n",
       "    }\n",
       "\n",
       "    .dataframe tbody tr th {\n",
       "        vertical-align: top;\n",
       "    }\n",
       "\n",
       "    .dataframe thead th {\n",
       "        text-align: right;\n",
       "    }\n",
       "</style>\n",
       "<table border=\"1\" class=\"dataframe\">\n",
       "  <thead>\n",
       "    <tr style=\"text-align: right;\">\n",
       "      <th></th>\n",
       "      <th>type</th>\n",
       "      <th>nunique</th>\n",
       "      <th>nan</th>\n",
       "      <th>duplicated_values</th>\n",
       "    </tr>\n",
       "    <tr>\n",
       "      <th>Feature</th>\n",
       "      <th></th>\n",
       "      <th></th>\n",
       "      <th></th>\n",
       "      <th></th>\n",
       "    </tr>\n",
       "  </thead>\n",
       "  <tbody>\n",
       "    <tr>\n",
       "      <th>revenue</th>\n",
       "      <td>float64</td>\n",
       "      <td>6863</td>\n",
       "      <td>6</td>\n",
       "      <td>38602</td>\n",
       "    </tr>\n",
       "  </tbody>\n",
       "</table>\n",
       "</div>"
      ],
      "text/plain": [
       "            type nunique nan duplicated_values\n",
       "Feature                                       \n",
       "revenue  float64    6863   6             38602"
      ]
     },
     "metadata": {},
     "output_type": "display_data"
    },
    {
     "name": "stdout",
     "output_type": "stream",
     "text": [
      "\n"
     ]
    },
    {
     "data": {
      "text/html": [
       "<div>\n",
       "<style scoped>\n",
       "    .dataframe tbody tr th:only-of-type {\n",
       "        vertical-align: middle;\n",
       "    }\n",
       "\n",
       "    .dataframe tbody tr th {\n",
       "        vertical-align: top;\n",
       "    }\n",
       "\n",
       "    .dataframe thead th {\n",
       "        text-align: right;\n",
       "    }\n",
       "</style>\n",
       "<table border=\"1\" class=\"dataframe\">\n",
       "  <thead>\n",
       "    <tr style=\"text-align: right;\">\n",
       "      <th></th>\n",
       "      <th>type</th>\n",
       "      <th>nunique</th>\n",
       "      <th>nan</th>\n",
       "      <th>duplicated_values</th>\n",
       "    </tr>\n",
       "    <tr>\n",
       "      <th>Feature</th>\n",
       "      <th></th>\n",
       "      <th></th>\n",
       "      <th></th>\n",
       "      <th></th>\n",
       "    </tr>\n",
       "  </thead>\n",
       "  <tbody>\n",
       "    <tr>\n",
       "      <th>runtime</th>\n",
       "      <td>float64</td>\n",
       "      <td>353</td>\n",
       "      <td>263</td>\n",
       "      <td>45112</td>\n",
       "    </tr>\n",
       "  </tbody>\n",
       "</table>\n",
       "</div>"
      ],
      "text/plain": [
       "            type nunique  nan duplicated_values\n",
       "Feature                                        \n",
       "runtime  float64     353  263             45112"
      ]
     },
     "metadata": {},
     "output_type": "display_data"
    },
    {
     "name": "stdout",
     "output_type": "stream",
     "text": [
      "\n"
     ]
    },
    {
     "data": {
      "text/html": [
       "<div>\n",
       "<style scoped>\n",
       "    .dataframe tbody tr th:only-of-type {\n",
       "        vertical-align: middle;\n",
       "    }\n",
       "\n",
       "    .dataframe tbody tr th {\n",
       "        vertical-align: top;\n",
       "    }\n",
       "\n",
       "    .dataframe thead th {\n",
       "        text-align: right;\n",
       "    }\n",
       "</style>\n",
       "<table border=\"1\" class=\"dataframe\">\n",
       "  <thead>\n",
       "    <tr style=\"text-align: right;\">\n",
       "      <th></th>\n",
       "      <th>type</th>\n",
       "      <th>nunique</th>\n",
       "      <th>nan</th>\n",
       "      <th>duplicated_values</th>\n",
       "    </tr>\n",
       "    <tr>\n",
       "      <th>Feature</th>\n",
       "      <th></th>\n",
       "      <th></th>\n",
       "      <th></th>\n",
       "      <th></th>\n",
       "    </tr>\n",
       "  </thead>\n",
       "  <tbody>\n",
       "    <tr>\n",
       "      <th>spoken_languages</th>\n",
       "      <td>object</td>\n",
       "      <td>1931</td>\n",
       "      <td>6</td>\n",
       "      <td>43534</td>\n",
       "    </tr>\n",
       "  </tbody>\n",
       "</table>\n",
       "</div>"
      ],
      "text/plain": [
       "                    type nunique nan duplicated_values\n",
       "Feature                                               \n",
       "spoken_languages  object    1931   6             43534"
      ]
     },
     "metadata": {},
     "output_type": "display_data"
    },
    {
     "name": "stdout",
     "output_type": "stream",
     "text": [
      "\n"
     ]
    },
    {
     "data": {
      "text/html": [
       "<table style=\"display:inline\" border=\"1\" class=\"dataframe\">\n",
       "  <thead>\n",
       "    <tr style=\"text-align: right;\">\n",
       "      <th></th>\n",
       "      <th>type</th>\n",
       "      <th>nunique</th>\n",
       "      <th>nan</th>\n",
       "      <th>duplicated_values</th>\n",
       "    </tr>\n",
       "    <tr>\n",
       "      <th>Feature</th>\n",
       "      <th></th>\n",
       "      <th></th>\n",
       "      <th></th>\n",
       "      <th></th>\n",
       "    </tr>\n",
       "  </thead>\n",
       "  <tbody>\n",
       "    <tr>\n",
       "      <th>status</th>\n",
       "      <td style=\"max-width: 150px;overflow-x:hidden\">object</td style=\"max-width: 150px;overflow-x:hidden\">\n",
       "      <td style=\"max-width: 150px;overflow-x:hidden\">6</td style=\"max-width: 150px;overflow-x:hidden\">\n",
       "      <td style=\"max-width: 150px;overflow-x:hidden\">87</td style=\"max-width: 150px;overflow-x:hidden\">\n",
       "      <td style=\"max-width: 150px;overflow-x:hidden\">45459</td style=\"max-width: 150px;overflow-x:hidden\">\n",
       "    </tr>\n",
       "  </tbody>\n",
       "</table style=\"display:inline\"><table style=\"display:inline\" border=\"1\" class=\"dataframe\">\n",
       "  <thead>\n",
       "    <tr style=\"text-align: right;\">\n",
       "      <th></th>\n",
       "      <th>values</th>\n",
       "    </tr>\n",
       "  </thead>\n",
       "  <tbody>\n",
       "    <tr>\n",
       "      <th>0</th>\n",
       "      <td style=\"max-width: 150px;overflow-x:hidden\">Released</td style=\"max-width: 150px;overflow-x:hidden\">\n",
       "    </tr>\n",
       "    <tr>\n",
       "      <th>1</th>\n",
       "      <td style=\"max-width: 150px;overflow-x:hidden\">NaN</td style=\"max-width: 150px;overflow-x:hidden\">\n",
       "    </tr>\n",
       "    <tr>\n",
       "      <th>2</th>\n",
       "      <td style=\"max-width: 150px;overflow-x:hidden\">Rumored</td style=\"max-width: 150px;overflow-x:hidden\">\n",
       "    </tr>\n",
       "    <tr>\n",
       "      <th>3</th>\n",
       "      <td style=\"max-width: 150px;overflow-x:hidden\">Post Production</td style=\"max-width: 150px;overflow-x:hidden\">\n",
       "    </tr>\n",
       "    <tr>\n",
       "      <th>4</th>\n",
       "      <td style=\"max-width: 150px;overflow-x:hidden\">In Production</td style=\"max-width: 150px;overflow-x:hidden\">\n",
       "    </tr>\n",
       "  </tbody>\n",
       "</table style=\"display:inline\">"
      ]
     },
     "metadata": {},
     "output_type": "display_data"
    },
    {
     "name": "stdout",
     "output_type": "stream",
     "text": [
      "\n"
     ]
    },
    {
     "data": {
      "text/html": [
       "<div>\n",
       "<style scoped>\n",
       "    .dataframe tbody tr th:only-of-type {\n",
       "        vertical-align: middle;\n",
       "    }\n",
       "\n",
       "    .dataframe tbody tr th {\n",
       "        vertical-align: top;\n",
       "    }\n",
       "\n",
       "    .dataframe thead th {\n",
       "        text-align: right;\n",
       "    }\n",
       "</style>\n",
       "<table border=\"1\" class=\"dataframe\">\n",
       "  <thead>\n",
       "    <tr style=\"text-align: right;\">\n",
       "      <th></th>\n",
       "      <th>type</th>\n",
       "      <th>nunique</th>\n",
       "      <th>nan</th>\n",
       "      <th>duplicated_values</th>\n",
       "    </tr>\n",
       "    <tr>\n",
       "      <th>Feature</th>\n",
       "      <th></th>\n",
       "      <th></th>\n",
       "      <th></th>\n",
       "      <th></th>\n",
       "    </tr>\n",
       "  </thead>\n",
       "  <tbody>\n",
       "    <tr>\n",
       "      <th>tagline</th>\n",
       "      <td>object</td>\n",
       "      <td>20283</td>\n",
       "      <td>25054</td>\n",
       "      <td>25182</td>\n",
       "    </tr>\n",
       "  </tbody>\n",
       "</table>\n",
       "</div>"
      ],
      "text/plain": [
       "           type nunique    nan duplicated_values\n",
       "Feature                                         \n",
       "tagline  object   20283  25054             25182"
      ]
     },
     "metadata": {},
     "output_type": "display_data"
    },
    {
     "name": "stdout",
     "output_type": "stream",
     "text": [
      "\n"
     ]
    },
    {
     "data": {
      "text/html": [
       "<div>\n",
       "<style scoped>\n",
       "    .dataframe tbody tr th:only-of-type {\n",
       "        vertical-align: middle;\n",
       "    }\n",
       "\n",
       "    .dataframe tbody tr th {\n",
       "        vertical-align: top;\n",
       "    }\n",
       "\n",
       "    .dataframe thead th {\n",
       "        text-align: right;\n",
       "    }\n",
       "</style>\n",
       "<table border=\"1\" class=\"dataframe\">\n",
       "  <thead>\n",
       "    <tr style=\"text-align: right;\">\n",
       "      <th></th>\n",
       "      <th>type</th>\n",
       "      <th>nunique</th>\n",
       "      <th>nan</th>\n",
       "      <th>duplicated_values</th>\n",
       "    </tr>\n",
       "    <tr>\n",
       "      <th>Feature</th>\n",
       "      <th></th>\n",
       "      <th></th>\n",
       "      <th></th>\n",
       "      <th></th>\n",
       "    </tr>\n",
       "  </thead>\n",
       "  <tbody>\n",
       "    <tr>\n",
       "      <th>title</th>\n",
       "      <td>object</td>\n",
       "      <td>42277</td>\n",
       "      <td>6</td>\n",
       "      <td>3188</td>\n",
       "    </tr>\n",
       "  </tbody>\n",
       "</table>\n",
       "</div>"
      ],
      "text/plain": [
       "           type nunique nan duplicated_values\n",
       "Feature                                      \n",
       "title    object   42277   6              3188"
      ]
     },
     "metadata": {},
     "output_type": "display_data"
    },
    {
     "name": "stdout",
     "output_type": "stream",
     "text": [
      "\n"
     ]
    },
    {
     "data": {
      "text/html": [
       "<table style=\"display:inline\" border=\"1\" class=\"dataframe\">\n",
       "  <thead>\n",
       "    <tr style=\"text-align: right;\">\n",
       "      <th></th>\n",
       "      <th>type</th>\n",
       "      <th>nunique</th>\n",
       "      <th>nan</th>\n",
       "      <th>duplicated_values</th>\n",
       "    </tr>\n",
       "    <tr>\n",
       "      <th>Feature</th>\n",
       "      <th></th>\n",
       "      <th></th>\n",
       "      <th></th>\n",
       "      <th></th>\n",
       "    </tr>\n",
       "  </thead>\n",
       "  <tbody>\n",
       "    <tr>\n",
       "      <th>video</th>\n",
       "      <td style=\"max-width: 150px;overflow-x:hidden\">object</td style=\"max-width: 150px;overflow-x:hidden\">\n",
       "      <td style=\"max-width: 150px;overflow-x:hidden\">2</td style=\"max-width: 150px;overflow-x:hidden\">\n",
       "      <td style=\"max-width: 150px;overflow-x:hidden\">6</td style=\"max-width: 150px;overflow-x:hidden\">\n",
       "      <td style=\"max-width: 150px;overflow-x:hidden\">45463</td style=\"max-width: 150px;overflow-x:hidden\">\n",
       "    </tr>\n",
       "  </tbody>\n",
       "</table style=\"display:inline\"><table style=\"display:inline\" border=\"1\" class=\"dataframe\">\n",
       "  <thead>\n",
       "    <tr style=\"text-align: right;\">\n",
       "      <th></th>\n",
       "      <th>values</th>\n",
       "    </tr>\n",
       "  </thead>\n",
       "  <tbody>\n",
       "    <tr>\n",
       "      <th>0</th>\n",
       "      <td style=\"max-width: 150px;overflow-x:hidden\">False</td style=\"max-width: 150px;overflow-x:hidden\">\n",
       "    </tr>\n",
       "    <tr>\n",
       "      <th>1</th>\n",
       "      <td style=\"max-width: 150px;overflow-x:hidden\">True</td style=\"max-width: 150px;overflow-x:hidden\">\n",
       "    </tr>\n",
       "    <tr>\n",
       "      <th>2</th>\n",
       "      <td style=\"max-width: 150px;overflow-x:hidden\">NaN</td style=\"max-width: 150px;overflow-x:hidden\">\n",
       "    </tr>\n",
       "  </tbody>\n",
       "</table style=\"display:inline\">"
      ]
     },
     "metadata": {},
     "output_type": "display_data"
    },
    {
     "name": "stdout",
     "output_type": "stream",
     "text": [
      "\n"
     ]
    },
    {
     "data": {
      "text/html": [
       "<div>\n",
       "<style scoped>\n",
       "    .dataframe tbody tr th:only-of-type {\n",
       "        vertical-align: middle;\n",
       "    }\n",
       "\n",
       "    .dataframe tbody tr th {\n",
       "        vertical-align: top;\n",
       "    }\n",
       "\n",
       "    .dataframe thead th {\n",
       "        text-align: right;\n",
       "    }\n",
       "</style>\n",
       "<table border=\"1\" class=\"dataframe\">\n",
       "  <thead>\n",
       "    <tr style=\"text-align: right;\">\n",
       "      <th></th>\n",
       "      <th>type</th>\n",
       "      <th>nunique</th>\n",
       "      <th>nan</th>\n",
       "      <th>duplicated_values</th>\n",
       "    </tr>\n",
       "    <tr>\n",
       "      <th>Feature</th>\n",
       "      <th></th>\n",
       "      <th></th>\n",
       "      <th></th>\n",
       "      <th></th>\n",
       "    </tr>\n",
       "  </thead>\n",
       "  <tbody>\n",
       "    <tr>\n",
       "      <th>vote_average</th>\n",
       "      <td>float64</td>\n",
       "      <td>92</td>\n",
       "      <td>6</td>\n",
       "      <td>45373</td>\n",
       "    </tr>\n",
       "  </tbody>\n",
       "</table>\n",
       "</div>"
      ],
      "text/plain": [
       "                 type nunique nan duplicated_values\n",
       "Feature                                            \n",
       "vote_average  float64      92   6             45373"
      ]
     },
     "metadata": {},
     "output_type": "display_data"
    },
    {
     "name": "stdout",
     "output_type": "stream",
     "text": [
      "\n"
     ]
    },
    {
     "data": {
      "text/html": [
       "<div>\n",
       "<style scoped>\n",
       "    .dataframe tbody tr th:only-of-type {\n",
       "        vertical-align: middle;\n",
       "    }\n",
       "\n",
       "    .dataframe tbody tr th {\n",
       "        vertical-align: top;\n",
       "    }\n",
       "\n",
       "    .dataframe thead th {\n",
       "        text-align: right;\n",
       "    }\n",
       "</style>\n",
       "<table border=\"1\" class=\"dataframe\">\n",
       "  <thead>\n",
       "    <tr style=\"text-align: right;\">\n",
       "      <th></th>\n",
       "      <th>type</th>\n",
       "      <th>nunique</th>\n",
       "      <th>nan</th>\n",
       "      <th>duplicated_values</th>\n",
       "    </tr>\n",
       "    <tr>\n",
       "      <th>Feature</th>\n",
       "      <th></th>\n",
       "      <th></th>\n",
       "      <th></th>\n",
       "      <th></th>\n",
       "    </tr>\n",
       "  </thead>\n",
       "  <tbody>\n",
       "    <tr>\n",
       "      <th>vote_count</th>\n",
       "      <td>float64</td>\n",
       "      <td>1820</td>\n",
       "      <td>6</td>\n",
       "      <td>43645</td>\n",
       "    </tr>\n",
       "  </tbody>\n",
       "</table>\n",
       "</div>"
      ],
      "text/plain": [
       "               type nunique nan duplicated_values\n",
       "Feature                                          \n",
       "vote_count  float64    1820   6             43645"
      ]
     },
     "metadata": {},
     "output_type": "display_data"
    },
    {
     "name": "stdout",
     "output_type": "stream",
     "text": [
      "\n"
     ]
    }
   ],
   "source": [
    "colstats = Colstats(mdf)\n",
    "\n",
    "print('Total number of entries:', len(mdf))\n",
    "colstat = []\n",
    "for idx, row in colstats.iterrows():\n",
    "    df = pd.DataFrame(data=row).drop('col').rename(columns={idx:colstats['col'].iloc[idx]}).T\n",
    "    df.index.name = 'Feature'\n",
    "    if int(df['nunique']) <= 10:\n",
    "        df2 = pd.DataFrame(mdf[row['col']].unique(), columns=['values'])\n",
    "        p(df, df2)\n",
    "    else:\n",
    "        display(df)\n",
    "    print('')"
   ]
  },
  {
   "cell_type": "code",
   "execution_count": 4,
   "metadata": {},
   "outputs": [
    {
     "data": {
      "text/plain": [
       "Index(['adult', 'belongs_to_collection', 'budget', 'genres', 'homepage', 'id',\n",
       "       'imdb_id', 'original_language', 'original_title', 'overview',\n",
       "       'popularity', 'poster_path', 'production_companies',\n",
       "       'production_countries', 'release_date', 'revenue', 'runtime',\n",
       "       'spoken_languages', 'status', 'tagline', 'title', 'video',\n",
       "       'vote_average', 'vote_count'],\n",
       "      dtype='object')"
      ]
     },
     "execution_count": 4,
     "metadata": {},
     "output_type": "execute_result"
    }
   ],
   "source": [
    "mdf.columns"
   ]
  },
  {
   "cell_type": "code",
   "execution_count": 5,
   "metadata": {},
   "outputs": [
    {
     "name": "stderr",
     "output_type": "stream",
     "text": [
      "/home/fernanda/.local/share/virtualenvs/movie-analysis-2nvOs6tw/lib/python3.6/site-packages/pandas/core/ops/__init__.py:1115: FutureWarning: elementwise comparison failed; returning scalar instead, but in the future will perform elementwise comparison\n",
      "  result = method(y)\n"
     ]
    }
   ],
   "source": [
    "typecol = {\n",
    "    'json' : [\n",
    "        'belongs_to_collection',\n",
    "        'genres',\n",
    "        'production_companies',\n",
    "        'production_countries',\n",
    "        'spoken_languages',\n",
    "    ],\n",
    "    'string' : [\n",
    "        'imdb_id',\n",
    "        'original_language',\n",
    "        'original_title',\n",
    "        'overview',\n",
    "        'status',\n",
    "        'tagline',\n",
    "        'title',\n",
    "    ],\n",
    "    'url' : [\n",
    "        'homepage',\n",
    "    ],\n",
    "    'datetime' : [\n",
    "        'release_date',\n",
    "    ],\n",
    "    'int' : [\n",
    "        'budget',\n",
    "        'id',\n",
    "        'revenue',\n",
    "        'runtime',\n",
    "        'vote_count'\n",
    "    ],\n",
    "    'float' : [\n",
    "        'popularity',\n",
    "        'vote_average',\n",
    "    ],\n",
    "    'bool' : [\n",
    "        'adult',\n",
    "        'video',\n",
    "    ],\n",
    "    'other' : [\n",
    "        'poster_path',\n",
    "    ]\n",
    "}\n",
    "unused_cols = [\n",
    "    'homepage',\n",
    "    'original_language',\n",
    "    'overview',\n",
    "    'poster_path',\n",
    "    'tagline',\n",
    "    'video',\n",
    "]\n",
    "coltype = {c:k for k, v in typecol.items() for c in v if c not in unused_cols}\n",
    "\n",
    "mdf = mdf.drop(columns=[c for c in mdf.columns if c not in coltype])\n",
    "for c in typecol['datetime']:\n",
    "    timedf = pd.to_datetime(clean(mdf[c].dropna(), wsep='-', asep=' '), errors='coerce', infer_datetime_format=True).dropna().astype(np.datetime64)\n",
    "    mdf = mdf.iloc[timedf.index]\n",
    "    mdf[c] = timedf\n",
    "del(timedf)\n",
    "for c in typecol['int']:\n",
    "    mdf[c] = pd.to_numeric(mdf[c], errors='coerce')\n",
    "    mdf = mdf.dropna(subset=[c])\n",
    "    mdf[c] = mdf[c].astype('int')\n",
    "for c in typecol['float']:\n",
    "    mdf[c] = pd.to_numeric(mdf[c], errors='coerce')\n",
    "    mdf = mdf.dropna(subset=[c])\n",
    "    mdf[c] = mdf[c].astype('float')\n",
    "for c in typecol['bool']:\n",
    "    mdf[c] =  mdf[mdf['adult'] == 'False'].append(\n",
    "        other=mdf[mdf['adult'] == 'True'], verify_integrity=True)['adult'] == 'True'"
   ]
  },
  {
   "cell_type": "code",
   "execution_count": 6,
   "metadata": {},
   "outputs": [
    {
     "data": {
      "text/plain": [
       "adult                              bool\n",
       "belongs_to_collection            object\n",
       "budget                            int64\n",
       "genres                           object\n",
       "id                                int64\n",
       "imdb_id                          object\n",
       "original_title                   object\n",
       "popularity                      float64\n",
       "production_companies             object\n",
       "production_countries             object\n",
       "release_date             datetime64[ns]\n",
       "revenue                           int64\n",
       "runtime                           int64\n",
       "spoken_languages                 object\n",
       "status                           object\n",
       "title                            object\n",
       "vote_average                    float64\n",
       "vote_count                        int64\n",
       "video                            object\n",
       "dtype: object"
      ]
     },
     "execution_count": 6,
     "metadata": {},
     "output_type": "execute_result"
    }
   ],
   "source": [
    "mdf.dtypes"
   ]
  },
  {
   "cell_type": "markdown",
   "metadata": {},
   "source": [
    "Unreliable columns: <br><br>\n",
    "\n",
    "| Dropped columns       | Reason                       | Alternative                              |\n",
    "| --------------------- |:----------------------------:| ----------------------------------------:|\n",
    "| belongs_to_collection | too many nans                | &nbsp;&nbsp;convert to bool              |\n",
    "| homepage              | too many nans                | &nbsp;&nbsp;convert to bool              |\n",
    "| runtime               | estimation pollutes analysis | &nbsp;&nbsp;use mean or median of others |\n",
    "\n",
    "<br>Let's drop them:"
   ]
  },
  {
   "cell_type": "code",
   "execution_count": 7,
   "metadata": {},
   "outputs": [],
   "source": [
    "mdf = mdf.drop(columns=['belongs_to_collection', 'runtime'])  # homepage was already dropped"
   ]
  },
  {
   "cell_type": "code",
   "execution_count": 8,
   "metadata": {},
   "outputs": [
    {
     "name": "stdout",
     "output_type": "stream",
     "text": [
      "Shape before removing dupes: (45114, 17)\n",
      "Shape after removing dupes: (45070, 17)\n",
      "Number of movies with budget info: 8858\n",
      "Number of movies with revenue info: 7386\n",
      "Number of movies with budget and revenue info: 5370\n"
     ]
    }
   ],
   "source": [
    "# removing invalid dupes\n",
    "print('Shape before removing dupes:', mdf.shape)\n",
    "mdf = mdf.drop(index=mdf[mdf['id'].duplicated() | mdf['imdb_id'].duplicated()].index)\n",
    "print('Shape after removing dupes:', mdf.shape)\n",
    "\n",
    "# removing entries with zero budget or zero revenue\n",
    "moneydf = mdf[mdf['budget'].apply(lambda x: bool(x))]\n",
    "print('Number of movies with budget info:', moneydf.shape[0])\n",
    "\n",
    "moneydf = mdf[mdf['revenue'].apply(lambda x: bool(x))]\n",
    "print('Number of movies with revenue info:', moneydf.shape[0])\n",
    "\n",
    "moneydf = mdf[['budget','revenue']]\n",
    "moneydf = moneydf[moneydf['budget'].apply(lambda x: bool(x)) & moneydf['revenue'].apply(lambda x: bool(x))]\n",
    "print('Number of movies with budget and revenue info:', moneydf.shape[0])\n",
    "\n",
    "moneydf = mdf.loc[moneydf.index]"
   ]
  },
  {
   "cell_type": "code",
   "execution_count": 9,
   "metadata": {},
   "outputs": [
    {
     "data": {
      "text/html": [
       "<table style=\"display:inline\" border=\"1\" class=\"dataframe\">\n",
       "  <thead>\n",
       "    <tr style=\"text-align: right;\">\n",
       "      <th></th>\n",
       "      <th>type</th>\n",
       "      <th>nunique</th>\n",
       "      <th>nan</th>\n",
       "      <th>duplicated_values</th>\n",
       "    </tr>\n",
       "    <tr>\n",
       "      <th>Feature</th>\n",
       "      <th></th>\n",
       "      <th></th>\n",
       "      <th></th>\n",
       "      <th></th>\n",
       "    </tr>\n",
       "  </thead>\n",
       "  <tbody>\n",
       "    <tr>\n",
       "      <th>adult</th>\n",
       "      <td style=\"max-width: 150px;overflow-x:hidden\">bool</td style=\"max-width: 150px;overflow-x:hidden\">\n",
       "      <td style=\"max-width: 150px;overflow-x:hidden\">1</td style=\"max-width: 150px;overflow-x:hidden\">\n",
       "      <td style=\"max-width: 150px;overflow-x:hidden\">0</td style=\"max-width: 150px;overflow-x:hidden\">\n",
       "      <td style=\"max-width: 150px;overflow-x:hidden\">5369</td style=\"max-width: 150px;overflow-x:hidden\">\n",
       "    </tr>\n",
       "  </tbody>\n",
       "</table style=\"display:inline\"><table style=\"display:inline\" border=\"1\" class=\"dataframe\">\n",
       "  <thead>\n",
       "    <tr style=\"text-align: right;\">\n",
       "      <th></th>\n",
       "      <th>values</th>\n",
       "    </tr>\n",
       "  </thead>\n",
       "  <tbody>\n",
       "    <tr>\n",
       "      <th>0</th>\n",
       "      <td style=\"max-width: 150px;overflow-x:hidden\">False</td style=\"max-width: 150px;overflow-x:hidden\">\n",
       "    </tr>\n",
       "  </tbody>\n",
       "</table style=\"display:inline\">"
      ]
     },
     "metadata": {},
     "output_type": "display_data"
    },
    {
     "name": "stdout",
     "output_type": "stream",
     "text": [
      "\n"
     ]
    },
    {
     "data": {
      "text/html": [
       "<div>\n",
       "<style scoped>\n",
       "    .dataframe tbody tr th:only-of-type {\n",
       "        vertical-align: middle;\n",
       "    }\n",
       "\n",
       "    .dataframe tbody tr th {\n",
       "        vertical-align: top;\n",
       "    }\n",
       "\n",
       "    .dataframe thead th {\n",
       "        text-align: right;\n",
       "    }\n",
       "</style>\n",
       "<table border=\"1\" class=\"dataframe\">\n",
       "  <thead>\n",
       "    <tr style=\"text-align: right;\">\n",
       "      <th></th>\n",
       "      <th>type</th>\n",
       "      <th>nunique</th>\n",
       "      <th>nan</th>\n",
       "      <th>duplicated_values</th>\n",
       "    </tr>\n",
       "    <tr>\n",
       "      <th>Feature</th>\n",
       "      <th></th>\n",
       "      <th></th>\n",
       "      <th></th>\n",
       "      <th></th>\n",
       "    </tr>\n",
       "  </thead>\n",
       "  <tbody>\n",
       "    <tr>\n",
       "      <th>budget</th>\n",
       "      <td>int64</td>\n",
       "      <td>704</td>\n",
       "      <td>0</td>\n",
       "      <td>4666</td>\n",
       "    </tr>\n",
       "  </tbody>\n",
       "</table>\n",
       "</div>"
      ],
      "text/plain": [
       "          type nunique nan duplicated_values\n",
       "Feature                                     \n",
       "budget   int64     704   0              4666"
      ]
     },
     "metadata": {},
     "output_type": "display_data"
    },
    {
     "name": "stdout",
     "output_type": "stream",
     "text": [
      "\n"
     ]
    },
    {
     "data": {
      "text/html": [
       "<div>\n",
       "<style scoped>\n",
       "    .dataframe tbody tr th:only-of-type {\n",
       "        vertical-align: middle;\n",
       "    }\n",
       "\n",
       "    .dataframe tbody tr th {\n",
       "        vertical-align: top;\n",
       "    }\n",
       "\n",
       "    .dataframe thead th {\n",
       "        text-align: right;\n",
       "    }\n",
       "</style>\n",
       "<table border=\"1\" class=\"dataframe\">\n",
       "  <thead>\n",
       "    <tr style=\"text-align: right;\">\n",
       "      <th></th>\n",
       "      <th>type</th>\n",
       "      <th>nunique</th>\n",
       "      <th>nan</th>\n",
       "      <th>duplicated_values</th>\n",
       "    </tr>\n",
       "    <tr>\n",
       "      <th>Feature</th>\n",
       "      <th></th>\n",
       "      <th></th>\n",
       "      <th></th>\n",
       "      <th></th>\n",
       "    </tr>\n",
       "  </thead>\n",
       "  <tbody>\n",
       "    <tr>\n",
       "      <th>genres</th>\n",
       "      <td>object</td>\n",
       "      <td>1299</td>\n",
       "      <td>0</td>\n",
       "      <td>4071</td>\n",
       "    </tr>\n",
       "  </tbody>\n",
       "</table>\n",
       "</div>"
      ],
      "text/plain": [
       "           type nunique nan duplicated_values\n",
       "Feature                                      \n",
       "genres   object    1299   0              4071"
      ]
     },
     "metadata": {},
     "output_type": "display_data"
    },
    {
     "name": "stdout",
     "output_type": "stream",
     "text": [
      "\n"
     ]
    },
    {
     "data": {
      "text/html": [
       "<div>\n",
       "<style scoped>\n",
       "    .dataframe tbody tr th:only-of-type {\n",
       "        vertical-align: middle;\n",
       "    }\n",
       "\n",
       "    .dataframe tbody tr th {\n",
       "        vertical-align: top;\n",
       "    }\n",
       "\n",
       "    .dataframe thead th {\n",
       "        text-align: right;\n",
       "    }\n",
       "</style>\n",
       "<table border=\"1\" class=\"dataframe\">\n",
       "  <thead>\n",
       "    <tr style=\"text-align: right;\">\n",
       "      <th></th>\n",
       "      <th>type</th>\n",
       "      <th>nunique</th>\n",
       "      <th>nan</th>\n",
       "      <th>duplicated_values</th>\n",
       "    </tr>\n",
       "    <tr>\n",
       "      <th>Feature</th>\n",
       "      <th></th>\n",
       "      <th></th>\n",
       "      <th></th>\n",
       "      <th></th>\n",
       "    </tr>\n",
       "  </thead>\n",
       "  <tbody>\n",
       "    <tr>\n",
       "      <th>id</th>\n",
       "      <td>int64</td>\n",
       "      <td>5370</td>\n",
       "      <td>0</td>\n",
       "      <td>0</td>\n",
       "    </tr>\n",
       "  </tbody>\n",
       "</table>\n",
       "</div>"
      ],
      "text/plain": [
       "          type nunique nan duplicated_values\n",
       "Feature                                     \n",
       "id       int64    5370   0                 0"
      ]
     },
     "metadata": {},
     "output_type": "display_data"
    },
    {
     "name": "stdout",
     "output_type": "stream",
     "text": [
      "\n"
     ]
    },
    {
     "data": {
      "text/html": [
       "<div>\n",
       "<style scoped>\n",
       "    .dataframe tbody tr th:only-of-type {\n",
       "        vertical-align: middle;\n",
       "    }\n",
       "\n",
       "    .dataframe tbody tr th {\n",
       "        vertical-align: top;\n",
       "    }\n",
       "\n",
       "    .dataframe thead th {\n",
       "        text-align: right;\n",
       "    }\n",
       "</style>\n",
       "<table border=\"1\" class=\"dataframe\">\n",
       "  <thead>\n",
       "    <tr style=\"text-align: right;\">\n",
       "      <th></th>\n",
       "      <th>type</th>\n",
       "      <th>nunique</th>\n",
       "      <th>nan</th>\n",
       "      <th>duplicated_values</th>\n",
       "    </tr>\n",
       "    <tr>\n",
       "      <th>Feature</th>\n",
       "      <th></th>\n",
       "      <th></th>\n",
       "      <th></th>\n",
       "      <th></th>\n",
       "    </tr>\n",
       "  </thead>\n",
       "  <tbody>\n",
       "    <tr>\n",
       "      <th>imdb_id</th>\n",
       "      <td>object</td>\n",
       "      <td>5370</td>\n",
       "      <td>0</td>\n",
       "      <td>0</td>\n",
       "    </tr>\n",
       "  </tbody>\n",
       "</table>\n",
       "</div>"
      ],
      "text/plain": [
       "           type nunique nan duplicated_values\n",
       "Feature                                      \n",
       "imdb_id  object    5370   0                 0"
      ]
     },
     "metadata": {},
     "output_type": "display_data"
    },
    {
     "name": "stdout",
     "output_type": "stream",
     "text": [
      "\n"
     ]
    },
    {
     "data": {
      "text/html": [
       "<div>\n",
       "<style scoped>\n",
       "    .dataframe tbody tr th:only-of-type {\n",
       "        vertical-align: middle;\n",
       "    }\n",
       "\n",
       "    .dataframe tbody tr th {\n",
       "        vertical-align: top;\n",
       "    }\n",
       "\n",
       "    .dataframe thead th {\n",
       "        text-align: right;\n",
       "    }\n",
       "</style>\n",
       "<table border=\"1\" class=\"dataframe\">\n",
       "  <thead>\n",
       "    <tr style=\"text-align: right;\">\n",
       "      <th></th>\n",
       "      <th>type</th>\n",
       "      <th>nunique</th>\n",
       "      <th>nan</th>\n",
       "      <th>duplicated_values</th>\n",
       "    </tr>\n",
       "    <tr>\n",
       "      <th>Feature</th>\n",
       "      <th></th>\n",
       "      <th></th>\n",
       "      <th></th>\n",
       "      <th></th>\n",
       "    </tr>\n",
       "  </thead>\n",
       "  <tbody>\n",
       "    <tr>\n",
       "      <th>original_title</th>\n",
       "      <td>object</td>\n",
       "      <td>5279</td>\n",
       "      <td>0</td>\n",
       "      <td>91</td>\n",
       "    </tr>\n",
       "  </tbody>\n",
       "</table>\n",
       "</div>"
      ],
      "text/plain": [
       "                  type nunique nan duplicated_values\n",
       "Feature                                             \n",
       "original_title  object    5279   0                91"
      ]
     },
     "metadata": {},
     "output_type": "display_data"
    },
    {
     "name": "stdout",
     "output_type": "stream",
     "text": [
      "\n"
     ]
    },
    {
     "data": {
      "text/html": [
       "<div>\n",
       "<style scoped>\n",
       "    .dataframe tbody tr th:only-of-type {\n",
       "        vertical-align: middle;\n",
       "    }\n",
       "\n",
       "    .dataframe tbody tr th {\n",
       "        vertical-align: top;\n",
       "    }\n",
       "\n",
       "    .dataframe thead th {\n",
       "        text-align: right;\n",
       "    }\n",
       "</style>\n",
       "<table border=\"1\" class=\"dataframe\">\n",
       "  <thead>\n",
       "    <tr style=\"text-align: right;\">\n",
       "      <th></th>\n",
       "      <th>type</th>\n",
       "      <th>nunique</th>\n",
       "      <th>nan</th>\n",
       "      <th>duplicated_values</th>\n",
       "    </tr>\n",
       "    <tr>\n",
       "      <th>Feature</th>\n",
       "      <th></th>\n",
       "      <th></th>\n",
       "      <th></th>\n",
       "      <th></th>\n",
       "    </tr>\n",
       "  </thead>\n",
       "  <tbody>\n",
       "    <tr>\n",
       "      <th>popularity</th>\n",
       "      <td>float64</td>\n",
       "      <td>5369</td>\n",
       "      <td>0</td>\n",
       "      <td>1</td>\n",
       "    </tr>\n",
       "  </tbody>\n",
       "</table>\n",
       "</div>"
      ],
      "text/plain": [
       "               type nunique nan duplicated_values\n",
       "Feature                                          \n",
       "popularity  float64    5369   0                 1"
      ]
     },
     "metadata": {},
     "output_type": "display_data"
    },
    {
     "name": "stdout",
     "output_type": "stream",
     "text": [
      "\n"
     ]
    },
    {
     "data": {
      "text/html": [
       "<div>\n",
       "<style scoped>\n",
       "    .dataframe tbody tr th:only-of-type {\n",
       "        vertical-align: middle;\n",
       "    }\n",
       "\n",
       "    .dataframe tbody tr th {\n",
       "        vertical-align: top;\n",
       "    }\n",
       "\n",
       "    .dataframe thead th {\n",
       "        text-align: right;\n",
       "    }\n",
       "</style>\n",
       "<table border=\"1\" class=\"dataframe\">\n",
       "  <thead>\n",
       "    <tr style=\"text-align: right;\">\n",
       "      <th></th>\n",
       "      <th>type</th>\n",
       "      <th>nunique</th>\n",
       "      <th>nan</th>\n",
       "      <th>duplicated_values</th>\n",
       "    </tr>\n",
       "    <tr>\n",
       "      <th>Feature</th>\n",
       "      <th></th>\n",
       "      <th></th>\n",
       "      <th></th>\n",
       "      <th></th>\n",
       "    </tr>\n",
       "  </thead>\n",
       "  <tbody>\n",
       "    <tr>\n",
       "      <th>production_companies</th>\n",
       "      <td>object</td>\n",
       "      <td>4160</td>\n",
       "      <td>0</td>\n",
       "      <td>1210</td>\n",
       "    </tr>\n",
       "  </tbody>\n",
       "</table>\n",
       "</div>"
      ],
      "text/plain": [
       "                        type nunique nan duplicated_values\n",
       "Feature                                                   \n",
       "production_companies  object    4160   0              1210"
      ]
     },
     "metadata": {},
     "output_type": "display_data"
    },
    {
     "name": "stdout",
     "output_type": "stream",
     "text": [
      "\n"
     ]
    },
    {
     "data": {
      "text/html": [
       "<div>\n",
       "<style scoped>\n",
       "    .dataframe tbody tr th:only-of-type {\n",
       "        vertical-align: middle;\n",
       "    }\n",
       "\n",
       "    .dataframe tbody tr th {\n",
       "        vertical-align: top;\n",
       "    }\n",
       "\n",
       "    .dataframe thead th {\n",
       "        text-align: right;\n",
       "    }\n",
       "</style>\n",
       "<table border=\"1\" class=\"dataframe\">\n",
       "  <thead>\n",
       "    <tr style=\"text-align: right;\">\n",
       "      <th></th>\n",
       "      <th>type</th>\n",
       "      <th>nunique</th>\n",
       "      <th>nan</th>\n",
       "      <th>duplicated_values</th>\n",
       "    </tr>\n",
       "    <tr>\n",
       "      <th>Feature</th>\n",
       "      <th></th>\n",
       "      <th></th>\n",
       "      <th></th>\n",
       "      <th></th>\n",
       "    </tr>\n",
       "  </thead>\n",
       "  <tbody>\n",
       "    <tr>\n",
       "      <th>production_countries</th>\n",
       "      <td>object</td>\n",
       "      <td>500</td>\n",
       "      <td>0</td>\n",
       "      <td>4870</td>\n",
       "    </tr>\n",
       "  </tbody>\n",
       "</table>\n",
       "</div>"
      ],
      "text/plain": [
       "                        type nunique nan duplicated_values\n",
       "Feature                                                   \n",
       "production_countries  object     500   0              4870"
      ]
     },
     "metadata": {},
     "output_type": "display_data"
    },
    {
     "name": "stdout",
     "output_type": "stream",
     "text": [
      "\n"
     ]
    },
    {
     "data": {
      "text/html": [
       "<div>\n",
       "<style scoped>\n",
       "    .dataframe tbody tr th:only-of-type {\n",
       "        vertical-align: middle;\n",
       "    }\n",
       "\n",
       "    .dataframe tbody tr th {\n",
       "        vertical-align: top;\n",
       "    }\n",
       "\n",
       "    .dataframe thead th {\n",
       "        text-align: right;\n",
       "    }\n",
       "</style>\n",
       "<table border=\"1\" class=\"dataframe\">\n",
       "  <thead>\n",
       "    <tr style=\"text-align: right;\">\n",
       "      <th></th>\n",
       "      <th>type</th>\n",
       "      <th>nunique</th>\n",
       "      <th>nan</th>\n",
       "      <th>duplicated_values</th>\n",
       "    </tr>\n",
       "    <tr>\n",
       "      <th>Feature</th>\n",
       "      <th></th>\n",
       "      <th></th>\n",
       "      <th></th>\n",
       "      <th></th>\n",
       "    </tr>\n",
       "  </thead>\n",
       "  <tbody>\n",
       "    <tr>\n",
       "      <th>release_date</th>\n",
       "      <td>datetime64[ns]</td>\n",
       "      <td>4143</td>\n",
       "      <td>0</td>\n",
       "      <td>1227</td>\n",
       "    </tr>\n",
       "  </tbody>\n",
       "</table>\n",
       "</div>"
      ],
      "text/plain": [
       "                        type nunique nan duplicated_values\n",
       "Feature                                                   \n",
       "release_date  datetime64[ns]    4143   0              1227"
      ]
     },
     "metadata": {},
     "output_type": "display_data"
    },
    {
     "name": "stdout",
     "output_type": "stream",
     "text": [
      "\n"
     ]
    },
    {
     "data": {
      "text/html": [
       "<div>\n",
       "<style scoped>\n",
       "    .dataframe tbody tr th:only-of-type {\n",
       "        vertical-align: middle;\n",
       "    }\n",
       "\n",
       "    .dataframe tbody tr th {\n",
       "        vertical-align: top;\n",
       "    }\n",
       "\n",
       "    .dataframe thead th {\n",
       "        text-align: right;\n",
       "    }\n",
       "</style>\n",
       "<table border=\"1\" class=\"dataframe\">\n",
       "  <thead>\n",
       "    <tr style=\"text-align: right;\">\n",
       "      <th></th>\n",
       "      <th>type</th>\n",
       "      <th>nunique</th>\n",
       "      <th>nan</th>\n",
       "      <th>duplicated_values</th>\n",
       "    </tr>\n",
       "    <tr>\n",
       "      <th>Feature</th>\n",
       "      <th></th>\n",
       "      <th></th>\n",
       "      <th></th>\n",
       "      <th></th>\n",
       "    </tr>\n",
       "  </thead>\n",
       "  <tbody>\n",
       "    <tr>\n",
       "      <th>revenue</th>\n",
       "      <td>int64</td>\n",
       "      <td>5004</td>\n",
       "      <td>0</td>\n",
       "      <td>366</td>\n",
       "    </tr>\n",
       "  </tbody>\n",
       "</table>\n",
       "</div>"
      ],
      "text/plain": [
       "          type nunique nan duplicated_values\n",
       "Feature                                     \n",
       "revenue  int64    5004   0               366"
      ]
     },
     "metadata": {},
     "output_type": "display_data"
    },
    {
     "name": "stdout",
     "output_type": "stream",
     "text": [
      "\n"
     ]
    },
    {
     "data": {
      "text/html": [
       "<div>\n",
       "<style scoped>\n",
       "    .dataframe tbody tr th:only-of-type {\n",
       "        vertical-align: middle;\n",
       "    }\n",
       "\n",
       "    .dataframe tbody tr th {\n",
       "        vertical-align: top;\n",
       "    }\n",
       "\n",
       "    .dataframe thead th {\n",
       "        text-align: right;\n",
       "    }\n",
       "</style>\n",
       "<table border=\"1\" class=\"dataframe\">\n",
       "  <thead>\n",
       "    <tr style=\"text-align: right;\">\n",
       "      <th></th>\n",
       "      <th>type</th>\n",
       "      <th>nunique</th>\n",
       "      <th>nan</th>\n",
       "      <th>duplicated_values</th>\n",
       "    </tr>\n",
       "    <tr>\n",
       "      <th>Feature</th>\n",
       "      <th></th>\n",
       "      <th></th>\n",
       "      <th></th>\n",
       "      <th></th>\n",
       "    </tr>\n",
       "  </thead>\n",
       "  <tbody>\n",
       "    <tr>\n",
       "      <th>spoken_languages</th>\n",
       "      <td>object</td>\n",
       "      <td>629</td>\n",
       "      <td>0</td>\n",
       "      <td>4741</td>\n",
       "    </tr>\n",
       "  </tbody>\n",
       "</table>\n",
       "</div>"
      ],
      "text/plain": [
       "                    type nunique nan duplicated_values\n",
       "Feature                                               \n",
       "spoken_languages  object     629   0              4741"
      ]
     },
     "metadata": {},
     "output_type": "display_data"
    },
    {
     "name": "stdout",
     "output_type": "stream",
     "text": [
      "\n"
     ]
    },
    {
     "data": {
      "text/html": [
       "<table style=\"display:inline\" border=\"1\" class=\"dataframe\">\n",
       "  <thead>\n",
       "    <tr style=\"text-align: right;\">\n",
       "      <th></th>\n",
       "      <th>type</th>\n",
       "      <th>nunique</th>\n",
       "      <th>nan</th>\n",
       "      <th>duplicated_values</th>\n",
       "    </tr>\n",
       "    <tr>\n",
       "      <th>Feature</th>\n",
       "      <th></th>\n",
       "      <th></th>\n",
       "      <th></th>\n",
       "      <th></th>\n",
       "    </tr>\n",
       "  </thead>\n",
       "  <tbody>\n",
       "    <tr>\n",
       "      <th>status</th>\n",
       "      <td style=\"max-width: 150px;overflow-x:hidden\">object</td style=\"max-width: 150px;overflow-x:hidden\">\n",
       "      <td style=\"max-width: 150px;overflow-x:hidden\">3</td style=\"max-width: 150px;overflow-x:hidden\">\n",
       "      <td style=\"max-width: 150px;overflow-x:hidden\">0</td style=\"max-width: 150px;overflow-x:hidden\">\n",
       "      <td style=\"max-width: 150px;overflow-x:hidden\">5367</td style=\"max-width: 150px;overflow-x:hidden\">\n",
       "    </tr>\n",
       "  </tbody>\n",
       "</table style=\"display:inline\"><table style=\"display:inline\" border=\"1\" class=\"dataframe\">\n",
       "  <thead>\n",
       "    <tr style=\"text-align: right;\">\n",
       "      <th></th>\n",
       "      <th>values</th>\n",
       "    </tr>\n",
       "  </thead>\n",
       "  <tbody>\n",
       "    <tr>\n",
       "      <th>0</th>\n",
       "      <td style=\"max-width: 150px;overflow-x:hidden\">Released</td style=\"max-width: 150px;overflow-x:hidden\">\n",
       "    </tr>\n",
       "    <tr>\n",
       "      <th>1</th>\n",
       "      <td style=\"max-width: 150px;overflow-x:hidden\">Rumored</td style=\"max-width: 150px;overflow-x:hidden\">\n",
       "    </tr>\n",
       "    <tr>\n",
       "      <th>2</th>\n",
       "      <td style=\"max-width: 150px;overflow-x:hidden\">Post Production</td style=\"max-width: 150px;overflow-x:hidden\">\n",
       "    </tr>\n",
       "  </tbody>\n",
       "</table style=\"display:inline\">"
      ]
     },
     "metadata": {},
     "output_type": "display_data"
    },
    {
     "name": "stdout",
     "output_type": "stream",
     "text": [
      "\n"
     ]
    },
    {
     "data": {
      "text/html": [
       "<div>\n",
       "<style scoped>\n",
       "    .dataframe tbody tr th:only-of-type {\n",
       "        vertical-align: middle;\n",
       "    }\n",
       "\n",
       "    .dataframe tbody tr th {\n",
       "        vertical-align: top;\n",
       "    }\n",
       "\n",
       "    .dataframe thead th {\n",
       "        text-align: right;\n",
       "    }\n",
       "</style>\n",
       "<table border=\"1\" class=\"dataframe\">\n",
       "  <thead>\n",
       "    <tr style=\"text-align: right;\">\n",
       "      <th></th>\n",
       "      <th>type</th>\n",
       "      <th>nunique</th>\n",
       "      <th>nan</th>\n",
       "      <th>duplicated_values</th>\n",
       "    </tr>\n",
       "    <tr>\n",
       "      <th>Feature</th>\n",
       "      <th></th>\n",
       "      <th></th>\n",
       "      <th></th>\n",
       "      <th></th>\n",
       "    </tr>\n",
       "  </thead>\n",
       "  <tbody>\n",
       "    <tr>\n",
       "      <th>title</th>\n",
       "      <td>object</td>\n",
       "      <td>5271</td>\n",
       "      <td>0</td>\n",
       "      <td>99</td>\n",
       "    </tr>\n",
       "  </tbody>\n",
       "</table>\n",
       "</div>"
      ],
      "text/plain": [
       "           type nunique nan duplicated_values\n",
       "Feature                                      \n",
       "title    object    5271   0                99"
      ]
     },
     "metadata": {},
     "output_type": "display_data"
    },
    {
     "name": "stdout",
     "output_type": "stream",
     "text": [
      "\n"
     ]
    },
    {
     "data": {
      "text/html": [
       "<div>\n",
       "<style scoped>\n",
       "    .dataframe tbody tr th:only-of-type {\n",
       "        vertical-align: middle;\n",
       "    }\n",
       "\n",
       "    .dataframe tbody tr th {\n",
       "        vertical-align: top;\n",
       "    }\n",
       "\n",
       "    .dataframe thead th {\n",
       "        text-align: right;\n",
       "    }\n",
       "</style>\n",
       "<table border=\"1\" class=\"dataframe\">\n",
       "  <thead>\n",
       "    <tr style=\"text-align: right;\">\n",
       "      <th></th>\n",
       "      <th>type</th>\n",
       "      <th>nunique</th>\n",
       "      <th>nan</th>\n",
       "      <th>duplicated_values</th>\n",
       "    </tr>\n",
       "    <tr>\n",
       "      <th>Feature</th>\n",
       "      <th></th>\n",
       "      <th></th>\n",
       "      <th></th>\n",
       "      <th></th>\n",
       "    </tr>\n",
       "  </thead>\n",
       "  <tbody>\n",
       "    <tr>\n",
       "      <th>vote_average</th>\n",
       "      <td>float64</td>\n",
       "      <td>66</td>\n",
       "      <td>0</td>\n",
       "      <td>5304</td>\n",
       "    </tr>\n",
       "  </tbody>\n",
       "</table>\n",
       "</div>"
      ],
      "text/plain": [
       "                 type nunique nan duplicated_values\n",
       "Feature                                            \n",
       "vote_average  float64      66   0              5304"
      ]
     },
     "metadata": {},
     "output_type": "display_data"
    },
    {
     "name": "stdout",
     "output_type": "stream",
     "text": [
      "\n"
     ]
    },
    {
     "data": {
      "text/html": [
       "<div>\n",
       "<style scoped>\n",
       "    .dataframe tbody tr th:only-of-type {\n",
       "        vertical-align: middle;\n",
       "    }\n",
       "\n",
       "    .dataframe tbody tr th {\n",
       "        vertical-align: top;\n",
       "    }\n",
       "\n",
       "    .dataframe thead th {\n",
       "        text-align: right;\n",
       "    }\n",
       "</style>\n",
       "<table border=\"1\" class=\"dataframe\">\n",
       "  <thead>\n",
       "    <tr style=\"text-align: right;\">\n",
       "      <th></th>\n",
       "      <th>type</th>\n",
       "      <th>nunique</th>\n",
       "      <th>nan</th>\n",
       "      <th>duplicated_values</th>\n",
       "    </tr>\n",
       "    <tr>\n",
       "      <th>Feature</th>\n",
       "      <th></th>\n",
       "      <th></th>\n",
       "      <th></th>\n",
       "      <th></th>\n",
       "    </tr>\n",
       "  </thead>\n",
       "  <tbody>\n",
       "    <tr>\n",
       "      <th>vote_count</th>\n",
       "      <td>int64</td>\n",
       "      <td>1778</td>\n",
       "      <td>0</td>\n",
       "      <td>3592</td>\n",
       "    </tr>\n",
       "  </tbody>\n",
       "</table>\n",
       "</div>"
      ],
      "text/plain": [
       "             type nunique nan duplicated_values\n",
       "Feature                                        \n",
       "vote_count  int64    1778   0              3592"
      ]
     },
     "metadata": {},
     "output_type": "display_data"
    },
    {
     "name": "stdout",
     "output_type": "stream",
     "text": [
      "\n"
     ]
    },
    {
     "data": {
      "text/html": [
       "<table style=\"display:inline\" border=\"1\" class=\"dataframe\">\n",
       "  <thead>\n",
       "    <tr style=\"text-align: right;\">\n",
       "      <th></th>\n",
       "      <th>type</th>\n",
       "      <th>nunique</th>\n",
       "      <th>nan</th>\n",
       "      <th>duplicated_values</th>\n",
       "    </tr>\n",
       "    <tr>\n",
       "      <th>Feature</th>\n",
       "      <th></th>\n",
       "      <th></th>\n",
       "      <th></th>\n",
       "      <th></th>\n",
       "    </tr>\n",
       "  </thead>\n",
       "  <tbody>\n",
       "    <tr>\n",
       "      <th>video</th>\n",
       "      <td style=\"max-width: 150px;overflow-x:hidden\">object</td style=\"max-width: 150px;overflow-x:hidden\">\n",
       "      <td style=\"max-width: 150px;overflow-x:hidden\">0</td style=\"max-width: 150px;overflow-x:hidden\">\n",
       "      <td style=\"max-width: 150px;overflow-x:hidden\">5370</td style=\"max-width: 150px;overflow-x:hidden\">\n",
       "      <td style=\"max-width: 150px;overflow-x:hidden\">5369</td style=\"max-width: 150px;overflow-x:hidden\">\n",
       "    </tr>\n",
       "  </tbody>\n",
       "</table style=\"display:inline\"><table style=\"display:inline\" border=\"1\" class=\"dataframe\">\n",
       "  <thead>\n",
       "    <tr style=\"text-align: right;\">\n",
       "      <th></th>\n",
       "      <th>values</th>\n",
       "    </tr>\n",
       "  </thead>\n",
       "  <tbody>\n",
       "    <tr>\n",
       "      <th>0</th>\n",
       "      <td style=\"max-width: 150px;overflow-x:hidden\">NaN</td style=\"max-width: 150px;overflow-x:hidden\">\n",
       "    </tr>\n",
       "  </tbody>\n",
       "</table style=\"display:inline\">"
      ]
     },
     "metadata": {},
     "output_type": "display_data"
    },
    {
     "name": "stdout",
     "output_type": "stream",
     "text": [
      "\n"
     ]
    },
    {
     "data": {
      "text/html": [
       "<div>\n",
       "<style scoped>\n",
       "    .dataframe tbody tr th:only-of-type {\n",
       "        vertical-align: middle;\n",
       "    }\n",
       "\n",
       "    .dataframe tbody tr th {\n",
       "        vertical-align: top;\n",
       "    }\n",
       "\n",
       "    .dataframe thead th {\n",
       "        text-align: right;\n",
       "    }\n",
       "</style>\n",
       "<table border=\"1\" class=\"dataframe\">\n",
       "  <thead>\n",
       "    <tr style=\"text-align: right;\">\n",
       "      <th></th>\n",
       "      <th>budget</th>\n",
       "      <th>popularity</th>\n",
       "      <th>revenue</th>\n",
       "      <th>vote_average</th>\n",
       "    </tr>\n",
       "  </thead>\n",
       "  <tbody>\n",
       "    <tr>\n",
       "      <th>count</th>\n",
       "      <td>⎯⎯⎯⎯⎯5370.000</td>\n",
       "      <td>⎯⎯⎯⎯⎯5370.000</td>\n",
       "      <td>⎯⎯⎯⎯⎯5370.000</td>\n",
       "      <td>⎯⎯⎯⎯⎯5370.000</td>\n",
       "    </tr>\n",
       "    <tr>\n",
       "      <th>mean</th>\n",
       "      <td>⎯31134270.887</td>\n",
       "      <td>⎯⎯⎯⎯⎯⎯⎯⎯9.789</td>\n",
       "      <td>⎯90475232.765</td>\n",
       "      <td>⎯⎯⎯⎯⎯⎯⎯⎯6.276</td>\n",
       "    </tr>\n",
       "    <tr>\n",
       "      <th>std</th>\n",
       "      <td>⎯40189693.056</td>\n",
       "      <td>⎯⎯⎯⎯⎯⎯⎯13.828</td>\n",
       "      <td>166273109.455</td>\n",
       "      <td>⎯⎯⎯⎯⎯⎯⎯⎯0.923</td>\n",
       "    </tr>\n",
       "    <tr>\n",
       "      <th>min</th>\n",
       "      <td>⎯⎯⎯⎯⎯⎯⎯⎯1.000</td>\n",
       "      <td>⎯⎯⎯⎯⎯⎯⎯⎯0.000</td>\n",
       "      <td>⎯⎯⎯⎯⎯⎯⎯⎯1.000</td>\n",
       "      <td>⎯⎯⎯⎯⎯⎯⎯⎯0.000</td>\n",
       "    </tr>\n",
       "    <tr>\n",
       "      <th>25%</th>\n",
       "      <td>⎯⎯5200000.000</td>\n",
       "      <td>⎯⎯⎯⎯⎯⎯⎯⎯5.462</td>\n",
       "      <td>⎯⎯7063239.500</td>\n",
       "      <td>⎯⎯⎯⎯⎯⎯⎯⎯5.700</td>\n",
       "    </tr>\n",
       "    <tr>\n",
       "      <th>50%</th>\n",
       "      <td>⎯17000000.000</td>\n",
       "      <td>⎯⎯⎯⎯⎯⎯⎯⎯8.403</td>\n",
       "      <td>⎯29974606.500</td>\n",
       "      <td>⎯⎯⎯⎯⎯⎯⎯⎯6.300</td>\n",
       "    </tr>\n",
       "    <tr>\n",
       "      <th>75%</th>\n",
       "      <td>⎯40000000.000</td>\n",
       "      <td>⎯⎯⎯⎯⎯⎯⎯11.725</td>\n",
       "      <td>100000000.000</td>\n",
       "      <td>⎯⎯⎯⎯⎯⎯⎯⎯6.900</td>\n",
       "    </tr>\n",
       "    <tr>\n",
       "      <th>max</th>\n",
       "      <td>380000000.000</td>\n",
       "      <td>⎯⎯⎯⎯⎯⎯547.488</td>\n",
       "      <td>2787965087.000</td>\n",
       "      <td>⎯⎯⎯⎯⎯⎯⎯⎯9.100</td>\n",
       "    </tr>\n",
       "  </tbody>\n",
       "</table>\n",
       "</div>"
      ],
      "text/plain": [
       "             budget    popularity        revenue  vote_average\n",
       "count ⎯⎯⎯⎯⎯5370.000 ⎯⎯⎯⎯⎯5370.000  ⎯⎯⎯⎯⎯5370.000 ⎯⎯⎯⎯⎯5370.000\n",
       "mean  ⎯31134270.887 ⎯⎯⎯⎯⎯⎯⎯⎯9.789  ⎯90475232.765 ⎯⎯⎯⎯⎯⎯⎯⎯6.276\n",
       "std   ⎯40189693.056 ⎯⎯⎯⎯⎯⎯⎯13.828  166273109.455 ⎯⎯⎯⎯⎯⎯⎯⎯0.923\n",
       "min   ⎯⎯⎯⎯⎯⎯⎯⎯1.000 ⎯⎯⎯⎯⎯⎯⎯⎯0.000  ⎯⎯⎯⎯⎯⎯⎯⎯1.000 ⎯⎯⎯⎯⎯⎯⎯⎯0.000\n",
       "25%   ⎯⎯5200000.000 ⎯⎯⎯⎯⎯⎯⎯⎯5.462  ⎯⎯7063239.500 ⎯⎯⎯⎯⎯⎯⎯⎯5.700\n",
       "50%   ⎯17000000.000 ⎯⎯⎯⎯⎯⎯⎯⎯8.403  ⎯29974606.500 ⎯⎯⎯⎯⎯⎯⎯⎯6.300\n",
       "75%   ⎯40000000.000 ⎯⎯⎯⎯⎯⎯⎯11.725  100000000.000 ⎯⎯⎯⎯⎯⎯⎯⎯6.900\n",
       "max   380000000.000 ⎯⎯⎯⎯⎯⎯547.488 2787965087.000 ⎯⎯⎯⎯⎯⎯⎯⎯9.100"
      ]
     },
     "execution_count": 9,
     "metadata": {},
     "output_type": "execute_result"
    }
   ],
   "source": [
    "\n",
    "colstats = Colstats(moneydf)\n",
    "for idx, row in colstats.iterrows():\n",
    "    df = pd.DataFrame(data=row).drop('col').rename(columns={idx:colstats['col'].iloc[idx]}).T\n",
    "    df.index.name = 'Feature'\n",
    "    if int(df['nunique']) <= 10:\n",
    "        df2 = pd.DataFrame(moneydf[row['col']].unique(), columns=['values'])\n",
    "        p(df, df2)\n",
    "    else:\n",
    "        display(df)\n",
    "    print('')\n",
    "moneydf[['budget', 'popularity', 'revenue', 'vote_average']].describe().round(3)"
   ]
  },
  {
   "cell_type": "markdown",
   "metadata": {},
   "source": [
    "<br><br>Now that our base is looking good for the basic types, let's try some plotting:"
   ]
  },
  {
   "cell_type": "code",
   "execution_count": 10,
   "metadata": {
    "scrolled": false
   },
   "outputs": [
    {
     "data": {
      "image/png": "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\n",
      "text/plain": [
       "<Figure size 460.8x403.2 with 1 Axes>"
      ]
     },
     "metadata": {},
     "output_type": "display_data"
    },
    {
     "data": {
      "image/png": "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\n",
      "text/plain": [
       "<Figure size 460.8x403.2 with 1 Axes>"
      ]
     },
     "metadata": {},
     "output_type": "display_data"
    },
    {
     "data": {
      "image/png": "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\n",
      "text/plain": [
       "<Figure size 460.8x403.2 with 1 Axes>"
      ]
     },
     "metadata": {},
     "output_type": "display_data"
    },
    {
     "data": {
      "image/png": "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\n",
      "text/plain": [
       "<Figure size 460.8x403.2 with 1 Axes>"
      ]
     },
     "metadata": {},
     "output_type": "display_data"
    }
   ],
   "source": [
    "bw_methods = ['scott', 'silverman'] #, 0.1, 0.25, 0.5, 0.75, 1.0]\n",
    "for c in moneydf[['budget', 'popularity', 'revenue', 'vote_average']].columns:\n",
    "    fig, ax = plt.subplots()\n",
    "    line = {}\n",
    "    for idx, bw in enumerate(bw_methods):\n",
    "        line[idx] = moneydf[c].plot.kde(bw_method=bw)\n",
    "        line[idx].set_xlim(\n",
    "            xmin=moneydf[c].quantile(0.25)-iqr(moneydf[c].values)*1.5,\n",
    "            xmax=moneydf[c].quantile(0.75)+iqr(moneydf[c].values)*1.5)\n",
    "        max_exp = int(np.floor(np.log10(moneydf[c].quantile(0.75)+iqr(moneydf[c].values)*1.5)))\n",
    "        line[idx].ticklabel_format(axis='x', style='sci', scilimits=(max_exp,max_exp))\n",
    "        line[idx].set_title(c, fontdict={'y': 0})\n",
    "        line[idx].set_label(bw)\n",
    "    plt.legend(bw_methods)\n",
    "    plt.show()\n",
    "    plt.close()\n",
    "pass"
   ]
  },
  {
   "cell_type": "markdown",
   "metadata": {},
   "source": [
    "<hr>\n",
    "\n",
    "Genres"
   ]
  },
  {
   "cell_type": "code",
   "execution_count": 11,
   "metadata": {},
   "outputs": [
    {
     "name": "stdout",
     "output_type": "stream",
     "text": [
      "Total entries so far: 5370\n",
      "20\n",
      "{('id', 12): ('name', 'Adventure'),\n",
      " ('id', 14): ('name', 'Fantasy'),\n",
      " ('id', 16): ('name', 'Animation'),\n",
      " ('id', 18): ('name', 'Drama'),\n",
      " ('id', 27): ('name', 'Horror'),\n",
      " ('id', 28): ('name', 'Action'),\n",
      " ('id', 35): ('name', 'Comedy'),\n",
      " ('id', 36): ('name', 'History'),\n",
      " ('id', 37): ('name', 'Western'),\n",
      " ('id', 53): ('name', 'Thriller'),\n",
      " ('id', 80): ('name', 'Crime'),\n",
      " ('id', 99): ('name', 'Documentary'),\n",
      " ('id', 878): ('name', 'Science Fiction'),\n",
      " ('id', 9648): ('name', 'Mystery'),\n",
      " ('id', 10402): ('name', 'Music'),\n",
      " ('id', 10749): ('name', 'Romance'),\n",
      " ('id', 10751): ('name', 'Family'),\n",
      " ('id', 10752): ('name', 'War'),\n",
      " ('id', 10769): ('name', 'Foreign'),\n",
      " ('id', 10770): ('name', 'TV Movie')}\n"
     ]
    }
   ],
   "source": [
    "# possibly interesting data\n",
    "genre_data = {}\n",
    "\n",
    "print('Total entries so far:', len(moneydf))\n",
    "\n",
    "# ignoring possibility of genre id collision\n",
    "moneydf.apply(axis=1,\n",
    "        func=lambda x:\n",
    "        [\n",
    "            genre_data.update({k: v})\n",
    "            for (_, k), (_, v) in\n",
    "            [\n",
    "                g.items()\n",
    "                    if len(g) > 0\n",
    "                    else {}\n",
    "                for g in ast.literal_eval(x['genres'])\n",
    "            ]\n",
    "        ]\n",
    ")\n",
    "\n",
    "print('')\n",
    "print('Number of distinct genres:', len(genre_data))\n",
    "pprint(genre_data)"
   ]
  },
  {
   "cell_type": "markdown",
   "metadata": {},
   "source": [
    "<hr>"
   ]
  },
  {
   "cell_type": "markdown",
   "metadata": {},
   "source": [
    "### <center>Testes de Hipótese</center>"
   ]
  },
  {
   "cell_type": "markdown",
   "metadata": {},
   "source": [
    "#### I. H<sub>0</sub>: O revenue de filmes do mesmo gênero não é influenciado pela data de lançamento."
   ]
  },
  {
   "cell_type": "code",
   "execution_count": null,
   "metadata": {},
   "outputs": [],
   "source": [
    "# relevant info for H0\n",
    "gdf = moneydf[['budget', 'revenue', 'genres', 'release_date']]\n",
    "\n",
    "# creating columns to indicate genre\n",
    "for _, g in genre_data.items():\n",
    "    gdf = gdf.assign(**{str(g) : lambda _: [0 for _ in range(gdf.shape[0])]})\n",
    "\n",
    "# setting correct genre values to 1 on each movie\n",
    "genres = list(genre_data.values())\n",
    "def set_genres(row:pd.Series, ginfo):\n",
    "    genre_series = pd.Series(np.zeros(len(row)), index=row.index, dtype=int)\n",
    "    for genre_info in ast.literal_eval(ginfo):\n",
    "        genre_series[genre_info['name']] = 1\n",
    "    return genre_series\n",
    "\n",
    "# updating genre df\n",
    "gdf[genres] = gdf[['genres']+genres].apply(axis=1, func=lambda row: set_genres(row, row['genres'])).drop(columns=['genres'])\n",
    "gdf = gdf.drop(columns=['genres'])\n",
    "gdf['year'] = gdf['release_date'].apply(func=lambda x: x.year)\n",
    "gdf.head(5)"
   ]
  },
  {
   "cell_type": "code",
   "execution_count": null,
   "metadata": {},
   "outputs": [],
   "source": [
    "# value correction -> real value = nominal value / gpd deflator \n",
    "price_deflator_df = pd.read_csv('data/GDPCTPI.csv').sort_values(by=['DATE'])\n",
    "price_deflator_df['DATE'] = price_deflator_df['DATE'].astype(np.datetime64)\n",
    "price_deflator_df = price_deflator_df.set_index(keys=['DATE'], verify_integrity=True)\n",
    "price_deflator_df['y'] = price_deflator_df.apply(axis=1, func=lambda x: x.name.year)\n",
    "price_deflator_df = pd.DataFrame(price_deflator_df.groupby(by=['y'])['GDPCTPI'].mean())\n",
    "assert(len(price_deflator_df) == max(price_deflator_df.index) - min(price_deflator_df.index) + 1)"
   ]
  },
  {
   "cell_type": "code",
   "execution_count": null,
   "metadata": {},
   "outputs": [],
   "source": [
    "price_deflator_df.loc[gdf['release_date'][.year]"
   ]
  },
  {
   "cell_type": "code",
   "execution_count": null,
   "metadata": {},
   "outputs": [],
   "source": [
    "gdf['release_date'].apply(lambda x: x.year)"
   ]
  },
  {
   "cell_type": "code",
   "execution_count": null,
   "metadata": {},
   "outputs": [],
   "source": [
    "gdf.apply(axis=0, func=lambda c:\n",
    "          gdf['revenue'] / price_deflator_df.loc[gdf['release_date'].year]\n",
    ")"
   ]
  },
  {
   "cell_type": "markdown",
   "metadata": {},
   "source": [
    "#### II. H<sub>0</sub>: A média de idade dos 10 atores principais está correlacionada com os ratings."
   ]
  },
  {
   "cell_type": "markdown",
   "metadata": {},
   "source": [
    "<hr>"
   ]
  },
  {
   "cell_type": "markdown",
   "metadata": {},
   "source": [
    "### <center>Regressão</center>"
   ]
  },
  {
   "cell_type": "code",
   "execution_count": 12,
   "metadata": {},
   "outputs": [
    {
     "data": {
      "text/plain": [
       "count   ⎯⎯⎯⎯45070.000\n",
       "mean    ⎯⎯⎯⎯⎯⎯⎯⎯2.941\n",
       "std     ⎯⎯⎯⎯⎯⎯⎯⎯6.025\n",
       "min     ⎯⎯⎯⎯⎯⎯⎯⎯0.000\n",
       "25%     ⎯⎯⎯⎯⎯⎯⎯⎯0.396\n",
       "50%     ⎯⎯⎯⎯⎯⎯⎯⎯1.138\n",
       "75%     ⎯⎯⎯⎯⎯⎯⎯⎯3.728\n",
       "max     ⎯⎯⎯⎯⎯⎯547.488\n",
       "Name: popularity, dtype: float64"
      ]
     },
     "execution_count": 12,
     "metadata": {},
     "output_type": "execute_result"
    }
   ],
   "source": [
    "mdf['popularity'].describe()"
   ]
  },
  {
   "cell_type": "markdown",
   "metadata": {},
   "source": [
    "Vamos considerar como popular os filmes com um valor de 'popularity' maior que 2 (um pouco menor que a média)"
   ]
  },
  {
   "cell_type": "code",
   "execution_count": 13,
   "metadata": {},
   "outputs": [],
   "source": [
    "new_mdf = mdf\n",
    "new_mdf['popularity'] = (new_mdf['popularity'] > 2).astype(int)"
   ]
  },
  {
   "cell_type": "code",
   "execution_count": 14,
   "metadata": {},
   "outputs": [
    {
     "data": {
      "text/plain": [
       "0    28733\n",
       "1    16337\n",
       "Name: popularity, dtype: int64"
      ]
     },
     "execution_count": 14,
     "metadata": {},
     "output_type": "execute_result"
    }
   ],
   "source": [
    "new_mdf['popularity'].value_counts()"
   ]
  },
  {
   "cell_type": "code",
   "execution_count": 15,
   "metadata": {},
   "outputs": [
    {
     "name": "stdout",
     "output_type": "stream",
     "text": [
      "[[7113  101]\n",
      " [1100 2954]]\n",
      "0.8934149804756834\n"
     ]
    }
   ],
   "source": [
    "X = new_mdf[['vote_average', 'vote_count']]\n",
    "y = new_mdf['popularity']\n",
    "\n",
    "X_train, X_test, y_train, y_test = train_test_split(X, y, test_size=0.25, random_state=0)\n",
    "\n",
    "logistic_regression = LogisticRegression()\n",
    "logistic_regression.fit(X_train, y_train)\n",
    "y_pred = logistic_regression.predict(X_test)\n",
    "\n",
    "cm = metrics.confusion_matrix(y_test, y_pred)\n",
    "print(cm)\n",
    "\n",
    "accuracy = logistic_regression.score(X_test, y_test)\n",
    "print(accuracy)"
   ]
  },
  {
   "cell_type": "markdown",
   "metadata": {},
   "source": [
    "A acurácia foi de aproximadamente 90%"
   ]
  },
  {
   "cell_type": "code",
   "execution_count": 16,
   "metadata": {},
   "outputs": [
    {
     "name": "stdout",
     "output_type": "stream",
     "text": [
      "       vote_average  vote_count\n",
      "8470  ⎯⎯⎯⎯⎯⎯⎯⎯6.700          19\n",
      "41353 ⎯⎯⎯⎯⎯⎯⎯⎯4.000           3\n",
      "28035 ⎯⎯⎯⎯⎯⎯⎯⎯4.700          22\n",
      "17546 ⎯⎯⎯⎯⎯⎯⎯⎯8.000           2\n",
      "23365 ⎯⎯⎯⎯⎯⎯⎯⎯7.700          25\n",
      "...             ...         ...\n",
      "11916 ⎯⎯⎯⎯⎯⎯⎯⎯6.700          97\n",
      "10200 ⎯⎯⎯⎯⎯⎯⎯⎯7.000           2\n",
      "19759 ⎯⎯⎯⎯⎯⎯⎯⎯6.600          80\n",
      "24354 ⎯⎯⎯⎯⎯⎯⎯⎯4.900          55\n",
      "16173 ⎯⎯⎯⎯⎯⎯⎯⎯7.700          19\n",
      "\n",
      "[11268 rows x 2 columns]\n"
     ]
    }
   ],
   "source": [
    "print(X_test)"
   ]
  },
  {
   "cell_type": "code",
   "execution_count": 17,
   "metadata": {},
   "outputs": [
    {
     "name": "stdout",
     "output_type": "stream",
     "text": [
      "   vote_average  vote_count\n",
      "0 ⎯⎯⎯⎯⎯⎯⎯⎯6.700          10\n",
      "1 ⎯⎯⎯⎯⎯⎯⎯⎯5.800          30\n",
      "2 ⎯⎯⎯⎯⎯⎯⎯⎯3.600          49\n",
      "3 ⎯⎯⎯⎯⎯⎯⎯⎯7.700          88\n",
      "4 ⎯⎯⎯⎯⎯⎯⎯⎯9.800          19\n",
      "5 ⎯⎯⎯⎯⎯⎯⎯⎯8.900          70\n",
      "[0 0 1 1 0 1]\n"
     ]
    }
   ],
   "source": [
    "# testando com outros valores\n",
    "new_votes = {'vote_average': [6.7, 5.8, 3.6, 7.7, 9.8, 8.9],\n",
    "            'vote_count': [10, 30, 49, 88, 19, 70]}\n",
    "\n",
    "df = pd.DataFrame(new_votes, columns=['vote_average', 'vote_count'])\n",
    "y_pred = logistic_regression.predict(df)\n",
    "print(df)\n",
    "print(y_pred)"
   ]
  },
  {
   "cell_type": "code",
   "execution_count": 18,
   "metadata": {},
   "outputs": [
    {
     "name": "stdout",
     "output_type": "stream",
     "text": [
      "[[   0  116]\n",
      " [   0 1227]]\n",
      "0.913626209977662\n"
     ]
    }
   ],
   "source": [
    "# agora considerando o revenue do filme\n",
    "new_mdf = moneydf\n",
    "new_mdf['popularity'] = (new_mdf['popularity'] > 2).astype(int)\n",
    "X = new_mdf[['vote_average', 'vote_count', 'revenue']]\n",
    "y = new_mdf['popularity']\n",
    "\n",
    "X_train, X_test, y_train, y_test = train_test_split(X, y, test_size=0.25, random_state=0)\n",
    "\n",
    "logistic_regression = LogisticRegression()\n",
    "logistic_regression.fit(X_train, y_train)\n",
    "y_pred = logistic_regression.predict(X_test)\n",
    "\n",
    "cm = metrics.confusion_matrix(y_test, y_pred)\n",
    "print(cm)\n",
    "\n",
    "accuracy = logistic_regression.score(X_test, y_test)\n",
    "print(accuracy)"
   ]
  },
  {
   "cell_type": "markdown",
   "metadata": {},
   "source": [
    "A acurácia foi para aproximadamente 91%"
   ]
  },
  {
   "cell_type": "markdown",
   "metadata": {},
   "source": [
    "#### Least Squares"
   ]
  },
  {
   "cell_type": "markdown",
   "metadata": {},
   "source": [
    "### <center>Classificação</center>"
   ]
  },
  {
   "cell_type": "markdown",
   "metadata": {},
   "source": [
    "#### Hidden Markov Model"
   ]
  },
  {
   "cell_type": "markdown",
   "metadata": {},
   "source": [
    "### <center>Agrupamento</center>"
   ]
  },
  {
   "cell_type": "markdown",
   "metadata": {},
   "source": [
    "#### DBScan"
   ]
  },
  {
   "cell_type": "markdown",
   "metadata": {},
   "source": [
    "### <center>Relatório Final:</center>\n",
    "<br>\n",
    "\n",
    "#### Sua análise dos dados deve apresentar:\n",
    "- Uma caracterização (análise exploratória) inicial dos dados **(2pts)**\n",
    "- Pelo menos, dois testes de hipótese/intervalos de confiança **(2pts)**\n",
    "    - Os ICs podem ser apresentados nos resultados de regressão e classificação abaixo.\n",
    "    - Os testes de hipótese também podem ser utilizados abaixo para comparar modelos.\n",
    "- Pelo menos uma regressão **(3pts)**\n",
    "- Pelo menos um algoritmo de aprendizado/classificação **(3pts)**\n",
    "\n",
    "#### No seu relatório, você deve apresentar pelo menos os seguintes pontos:\n",
    "- Introdução com Motivação e Pergunta de Pesquisa\n",
    "- Metodologia\n",
    "- Descreva sua base\n",
    "- Quais métodos e modelos foram utilizados. Justifique os mesmos.\n",
    "- Resultados. Sugiro separar em\n",
    "    - Caracterização (análise exploratória)\n",
    "    - Testes de hipótese podem vir aqui.\n",
    "    - Previsão (uma ou duas sub-seções dependendo dos modelos utilizados)\n",
    "    - Conclusões\n",
    "\n",
    "Responda suas perguntas:\n",
    "- Qual a melhor época do ano para anunciar e lançar um filme?\n",
    "- Como a popularidade dos gêneros dos filmes evoluiu ao longo dos anos?\n",
    "- Qual o peso de um ator/atriz popular no retorno financeiro de um filme com avaliação \"ruim\"?\n",
    "\n",
    "### Vídeo\n",
    "Vídeo no Youtube 5 minutos (pode ser um vídeo só de slides) **(5pts)**"
   ]
  }
 ],
 "metadata": {
  "kernelspec": {
   "display_name": "Python 3",
   "language": "python",
   "name": "python3"
  },
  "language_info": {
   "codemirror_mode": {
    "name": "ipython",
    "version": 3
   },
   "file_extension": ".py",
   "mimetype": "text/x-python",
   "name": "python",
   "nbconvert_exporter": "python",
   "pygments_lexer": "ipython3",
<<<<<<< HEAD
   "version": "3.6.8"
=======
   "version": "3.8.0"
>>>>>>> almost ready for classification
  }
 },
 "nbformat": 4,
 "nbformat_minor": 4
}
